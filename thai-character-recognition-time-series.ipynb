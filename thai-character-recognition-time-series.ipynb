{
  "nbformat": 4,
  "nbformat_minor": 0,
  "metadata": {
    "colab": {
      "name": "thai-character-recognition-time-series.ipynb",
      "version": "0.3.2",
      "provenance": [],
      "collapsed_sections": [
        "iJ4G4-JM3pPA"
      ],
      "toc_visible": true
    },
    "kernelspec": {
      "name": "python3",
      "display_name": "Python 3"
    }
  },
  "cells": [
    {
      "metadata": {
        "id": "hmH_FvDClNkH",
        "colab_type": "text"
      },
      "cell_type": "markdown",
      "source": [
        "# Thai Handwritten Character Recognition with Time Series (Time Series Midterm)"
      ]
    },
    {
      "metadata": {
        "id": "rXe0lm9rlg5_",
        "colab_type": "text"
      },
      "cell_type": "markdown",
      "source": [
        "## Download dataset"
      ]
    },
    {
      "metadata": {
        "id": "HraFYSMKl5yB",
        "colab_type": "code",
        "colab": {}
      },
      "cell_type": "code",
      "source": [
        "!wget -q http://www.ai.rug.nl/~mrolarik/ALICE-THI/ALICE-THI-Dataset.tar.gz\n",
        "!tar -xzf ALICE-THI-Dataset.tar.gz\n",
        "!rm ALICE-THI-Dataset.tar.gz\n",
        "!mv ALICE-THI\\ Dataset/ALICE-THI\\ Dataset.tar.gz .\n",
        "!rm -rf ALICE-THI\\ Dataset\n",
        "!tar -xzf ALICE-THI\\ Dataset.tar.gz\n",
        "!rm ALICE-THI\\ Dataset.tar.gz"
      ],
      "execution_count": 0,
      "outputs": []
    },
    {
      "metadata": {
        "id": "Qy406vKc4WYQ",
        "colab_type": "text"
      },
      "cell_type": "markdown",
      "source": [
        "## Install modules"
      ]
    },
    {
      "metadata": {
        "id": "HQ2o-m7ulH3v",
        "colab_type": "code",
        "colab": {}
      },
      "cell_type": "code",
      "source": [
        "!sudo apt-get -qq install python-opencv\n",
        "!sudo apt-get -qq install python3-pandas\n",
        "!sudo apt-get -qq install python3-matplotlib\n",
        "!pip install fastdtw\n",
        "!pip install scikit-learn"
      ],
      "execution_count": 0,
      "outputs": []
    },
    {
      "metadata": {
        "id": "8b5TD9UtlklV",
        "colab_type": "text"
      },
      "cell_type": "markdown",
      "source": [
        "## Preprocessing"
      ]
    },
    {
      "metadata": {
        "id": "VgpnL7K-lmon",
        "colab_type": "code",
        "colab": {}
      },
      "cell_type": "code",
      "source": [
        "import cv2 as cv\n",
        "\n",
        "def get_img(file, size=36):\n",
        "  img = cv.imread(file, cv.IMREAD_GRAYSCALE)\n",
        "  resized_img = cv.resize(img, (size, size), interpolation=cv.INTER_CUBIC)\n",
        "  inverted_img = 255 - resized_img\n",
        "  return inverted_img"
      ],
      "execution_count": 0,
      "outputs": []
    },
    {
      "metadata": {
        "id": "-ok_Hsdrcfrq",
        "colab_type": "text"
      },
      "cell_type": "markdown",
      "source": [
        "## Features\n",
        "\n",
        "- For the boundary feature, maximum distance value (height of image in pixels) is used for columns with no boundary.\n",
        "- We use min-max normalization for simplicity."
      ]
    },
    {
      "metadata": {
        "id": "5jJHxOeNxlpB",
        "colab_type": "code",
        "colab": {}
      },
      "cell_type": "code",
      "source": [
        "import numpy as np\n",
        "\n",
        "def get_projection(img):\n",
        "  projection = np.apply_along_axis(np.sum, 0, img)\n",
        "  normalized_projection = projection/(255 * img.shape[0])\n",
        "  return normalized_projection"
      ],
      "execution_count": 0,
      "outputs": []
    },
    {
      "metadata": {
        "id": "NKppDB-5lKMH",
        "colab_type": "code",
        "colab": {}
      },
      "cell_type": "code",
      "source": [
        "import numpy as np\n",
        "\n",
        "UPPER_BOUNDARY = 0\n",
        "LOWER_BOUNDARY = -1\n",
        "\n",
        "def calculate_boundary(col, direction, threshold):\n",
        "  ink = np.argwhere(col > threshold)\n",
        "  if ink.size == 0:\n",
        "    return col.shape[0]\n",
        "  if direction == UPPER_BOUNDARY:\n",
        "    return ink[direction][0]\n",
        "  return col.shape[0] - ink[direction][0] - 1\n",
        "  \n",
        "def get_boundary(img, direction=UPPER_BOUNDARY, threshold=127):\n",
        "  boundary = np.apply_along_axis(calculate_boundary, 0, img, direction, threshold)\n",
        "  normalized_boundary = boundary/img.shape[0]\n",
        "  return normalized_boundary\n",
        "  "
      ],
      "execution_count": 0,
      "outputs": []
    },
    {
      "metadata": {
        "id": "GPUPfGoAlJyA",
        "colab_type": "code",
        "colab": {}
      },
      "cell_type": "code",
      "source": [
        "import numpy as np\n",
        "\n",
        "def calculate_nbit(col, threshold):\n",
        "  nbit = 0\n",
        "  current_region = 0\n",
        "  for pixel in col:\n",
        "    if current_region == 0 and pixel > threshold:\n",
        "      nbit += 1\n",
        "      current_region = 255\n",
        "    elif current_region == 255 and pixel < threshold:\n",
        "      current_region = 0\n",
        "  return nbit\n",
        "\n",
        "def get_nbits(img, threshold=127):\n",
        "  nbits = np.apply_along_axis(calculate_nbit, 0, img, threshold)\n",
        "  normalized_nbits = nbits/8 # maximum nbits\n",
        "  return normalized_nbits"
      ],
      "execution_count": 0,
      "outputs": []
    },
    {
      "metadata": {
        "id": "9JH1vZICckcl",
        "colab_type": "text"
      },
      "cell_type": "markdown",
      "source": [
        "## Utility functions"
      ]
    },
    {
      "metadata": {
        "id": "l0f2MXXqYjkn",
        "colab_type": "code",
        "colab": {}
      },
      "cell_type": "code",
      "source": [
        "import os\n",
        "\n",
        "def get_files(path):\n",
        "  for subdir in os.listdir(path):\n",
        "    subdir_path = os.path.join(path, subdir)\n",
        "    for file in os.listdir(subdir_path):\n",
        "      yield os.path.join(subdir_path, file)"
      ],
      "execution_count": 0,
      "outputs": []
    },
    {
      "metadata": {
        "id": "dBNaaBTM14RT",
        "colab_type": "code",
        "colab": {}
      },
      "cell_type": "code",
      "source": [
        "import matplotlib.pyplot as plt\n",
        "\n",
        "def display_plot(data):\n",
        "  figure, axes = plt.subplots()\n",
        "  axes.plot(data)\n",
        "  plt.show()"
      ],
      "execution_count": 0,
      "outputs": []
    },
    {
      "metadata": {
        "id": "gT79MgYa4hFy",
        "colab_type": "text"
      },
      "cell_type": "markdown",
      "source": [
        "## Batch process all files"
      ]
    },
    {
      "metadata": {
        "id": "xZ0etk-H4gxa",
        "colab_type": "code",
        "colab": {}
      },
      "cell_type": "code",
      "source": [
        "import re\n",
        "\n",
        "path = 'Thai_char_sqr'\n",
        "\n",
        "file_names = []\n",
        "features = []\n",
        "\n",
        "for file_name in get_files(path):\n",
        "  label = int(re.search(r'/(\\d*)-', file_name).group(1))\n",
        "  target_name = re.search(r'-([\\w ]+)-\\d+( - Copy)?.png$', file_name).group(1)\n",
        "  img = get_img(file_name)\n",
        "  projection = get_projection(img)\n",
        "  upper_boundary = get_boundary(img, UPPER_BOUNDARY)\n",
        "  lower_boundary = get_boundary(img, LOWER_BOUNDARY)\n",
        "  nbits = get_nbits(img)\n",
        "  file_names.append(file_name)\n",
        "  features.append({ 'label': label, 'target_name': target_name, 'projection': projection, 'upper': upper_boundary, 'lower': lower_boundary, 'nbits': nbits })"
      ],
      "execution_count": 0,
      "outputs": []
    },
    {
      "metadata": {
        "id": "3YW3Gi2I93Kz",
        "colab_type": "code",
        "outputId": "f5d3ee1d-47a4-4047-c856-51fd2044df0a",
        "colab": {
          "base_uri": "https://localhost:8080/",
          "height": 3034
        }
      },
      "cell_type": "code",
      "source": [
        "display(dataset)"
      ],
      "execution_count": 0,
      "outputs": [
        {
          "output_type": "display_data",
          "data": {
            "text/html": [
              "<div>\n",
              "<style scoped>\n",
              "    .dataframe tbody tr th:only-of-type {\n",
              "        vertical-align: middle;\n",
              "    }\n",
              "\n",
              "    .dataframe tbody tr th {\n",
              "        vertical-align: top;\n",
              "    }\n",
              "\n",
              "    .dataframe thead th {\n",
              "        text-align: right;\n",
              "    }\n",
              "</style>\n",
              "<table border=\"1\" class=\"dataframe\">\n",
              "  <thead>\n",
              "    <tr style=\"text-align: right;\">\n",
              "      <th></th>\n",
              "      <th>label</th>\n",
              "      <th>lower</th>\n",
              "      <th>nbits</th>\n",
              "      <th>projection</th>\n",
              "      <th>target_name</th>\n",
              "      <th>upper</th>\n",
              "    </tr>\n",
              "  </thead>\n",
              "  <tbody>\n",
              "    <tr>\n",
              "      <th>Thai_char_sqr/34/33-194-C2-YO YAK-1136.png</th>\n",
              "      <td>33</td>\n",
              "      <td>[1.0, 1.0, 1.0, 1.0, 1.0, 1.0, 1.0, 1.0, 1.0, ...</td>\n",
              "      <td>[0.0, 0.0, 0.0, 0.0, 0.0, 0.0, 0.0, 0.0, 0.0, ...</td>\n",
              "      <td>[0.0, 0.0, 0.0, 0.0, 0.0, 0.0, 0.0, 0.00032679...</td>\n",
              "      <td>YO YAK</td>\n",
              "      <td>[1.0, 1.0, 1.0, 1.0, 1.0, 1.0, 1.0, 1.0, 1.0, ...</td>\n",
              "    </tr>\n",
              "    <tr>\n",
              "      <th>Thai_char_sqr/34/33-194-C2-YO YAK-544.png</th>\n",
              "      <td>33</td>\n",
              "      <td>[1.0, 1.0, 1.0, 0.4722222222222222, 0.38888888...</td>\n",
              "      <td>[0.0, 0.0, 0.0, 0.125, 0.125, 0.125, 0.125, 0....</td>\n",
              "      <td>[0.0, 0.00043572984749455336, 0.03616557734204...</td>\n",
              "      <td>YO YAK</td>\n",
              "      <td>[1.0, 1.0, 1.0, 0.4166666666666667, 0.30555555...</td>\n",
              "    </tr>\n",
              "    <tr>\n",
              "      <th>Thai_char_sqr/34/33-194-C2-YO YAK-1233.png</th>\n",
              "      <td>33</td>\n",
              "      <td>[1.0, 1.0, 1.0, 1.0, 0.5277777777777778, 0.444...</td>\n",
              "      <td>[0.0, 0.0, 0.0, 0.0, 0.125, 0.125, 0.25, 0.25,...</td>\n",
              "      <td>[0.0, 0.0, 0.0, 0.00010893246187363834, 0.1042...</td>\n",
              "      <td>YO YAK</td>\n",
              "      <td>[1.0, 1.0, 1.0, 1.0, 0.3333333333333333, 0.25,...</td>\n",
              "    </tr>\n",
              "    <tr>\n",
              "      <th>Thai_char_sqr/34/33-194-C2-YO YAK-346.png</th>\n",
              "      <td>33</td>\n",
              "      <td>[1.0, 1.0, 1.0, 1.0, 1.0, 1.0, 1.0, 0.66666666...</td>\n",
              "      <td>[0.0, 0.0, 0.0, 0.0, 0.0, 0.0, 0.0, 0.125, 0.1...</td>\n",
              "      <td>[0.0, 0.0, 0.0, 0.0, 0.0, 0.0, 0.0002178649237...</td>\n",
              "      <td>YO YAK</td>\n",
              "      <td>[1.0, 1.0, 1.0, 1.0, 1.0, 1.0, 1.0, 0.25, 0.16...</td>\n",
              "    </tr>\n",
              "    <tr>\n",
              "      <th>Thai_char_sqr/34/33-194-C2-YO YAK-1052.png</th>\n",
              "      <td>33</td>\n",
              "      <td>[1.0, 1.0, 1.0, 1.0, 0.6388888888888888, 0.472...</td>\n",
              "      <td>[0.0, 0.0, 0.0, 0.0, 0.125, 0.125, 0.125, 0.12...</td>\n",
              "      <td>[0.0, 0.0, 0.00010893246187363834, 0.021459694...</td>\n",
              "      <td>YO YAK</td>\n",
              "      <td>[1.0, 1.0, 1.0, 1.0, 0.25, 0.1388888888888889,...</td>\n",
              "    </tr>\n",
              "    <tr>\n",
              "      <th>Thai_char_sqr/34/33-194-C2-YO YAK-71.png</th>\n",
              "      <td>33</td>\n",
              "      <td>[1.0, 0.5833333333333334, 0.5555555555555556, ...</td>\n",
              "      <td>[0.0, 0.125, 0.125, 0.125, 0.125, 0.125, 0.125...</td>\n",
              "      <td>[0.00021786492374727668, 0.09183006535947713, ...</td>\n",
              "      <td>YO YAK</td>\n",
              "      <td>[1.0, 0.3055555555555556, 0.2777777777777778, ...</td>\n",
              "    </tr>\n",
              "    <tr>\n",
              "      <th>Thai_char_sqr/34/33-194-C2-YO YAK-794.png</th>\n",
              "      <td>33</td>\n",
              "      <td>[1.0, 1.0, 1.0, 1.0, 1.0, 1.0, 0.6388888888888...</td>\n",
              "      <td>[0.0, 0.0, 0.0, 0.0, 0.0, 0.0, 0.125, 0.125, 0...</td>\n",
              "      <td>[0.0, 0.0, 0.0, 0.0, 0.0, 0.000435729847494553...</td>\n",
              "      <td>YO YAK</td>\n",
              "      <td>[1.0, 1.0, 1.0, 1.0, 1.0, 1.0, 0.2777777777777...</td>\n",
              "    </tr>\n",
              "    <tr>\n",
              "      <th>Thai_char_sqr/34/33-194-C2-YO YAK-604.png</th>\n",
              "      <td>33</td>\n",
              "      <td>[1.0, 1.0, 1.0, 1.0, 1.0, 1.0, 1.0, 0.44444444...</td>\n",
              "      <td>[0.0, 0.0, 0.0, 0.0, 0.0, 0.0, 0.0, 0.125, 0.1...</td>\n",
              "      <td>[0.0, 0.0, 0.0, 0.0, 0.0, 0.0, 0.0128540305010...</td>\n",
              "      <td>YO YAK</td>\n",
              "      <td>[1.0, 1.0, 1.0, 1.0, 1.0, 1.0, 1.0, 0.38888888...</td>\n",
              "    </tr>\n",
              "    <tr>\n",
              "      <th>Thai_char_sqr/34/33-194-C2-YO YAK-1248.png</th>\n",
              "      <td>33</td>\n",
              "      <td>[1.0, 1.0, 1.0, 1.0, 1.0, 0.5, 0.4444444444444...</td>\n",
              "      <td>[0.0, 0.0, 0.0, 0.0, 0.0, 0.125, 0.125, 0.25, ...</td>\n",
              "      <td>[0.0, 0.0, 0.0, 0.0, 0.00010893246187363834, 0...</td>\n",
              "      <td>YO YAK</td>\n",
              "      <td>[1.0, 1.0, 1.0, 1.0, 1.0, 0.2222222222222222, ...</td>\n",
              "    </tr>\n",
              "    <tr>\n",
              "      <th>Thai_char_sqr/34/33-194-C2-YO YAK-1275.png</th>\n",
              "      <td>33</td>\n",
              "      <td>[1.0, 1.0, 0.7777777777777778, 0.7777777777777...</td>\n",
              "      <td>[0.0, 0.0, 0.125, 0.125, 0.125, 0.125, 0.25, 0...</td>\n",
              "      <td>[0.0, 0.0, 0.03932461873638344, 0.077777777777...</td>\n",
              "      <td>YO YAK</td>\n",
              "      <td>[1.0, 1.0, 0.16666666666666666, 0.166666666666...</td>\n",
              "    </tr>\n",
              "    <tr>\n",
              "      <th>Thai_char_sqr/34/33-194-C2-YO YAK-1353.png</th>\n",
              "      <td>33</td>\n",
              "      <td>[1.0, 1.0, 1.0, 0.5833333333333334, 0.52777777...</td>\n",
              "      <td>[0.0, 0.0, 0.0, 0.125, 0.25, 0.25, 0.25, 0.25,...</td>\n",
              "      <td>[0.0, 0.0, 0.0, 0.11579520697167756, 0.1521786...</td>\n",
              "      <td>YO YAK</td>\n",
              "      <td>[1.0, 1.0, 1.0, 0.3333333333333333, 0.25, 0.22...</td>\n",
              "    </tr>\n",
              "    <tr>\n",
              "      <th>Thai_char_sqr/34/33-194-C2-YO YAK-730.png</th>\n",
              "      <td>33</td>\n",
              "      <td>[1.0, 1.0, 1.0, 1.0, 0.7222222222222222, 0.527...</td>\n",
              "      <td>[0.0, 0.0, 0.0, 0.0, 0.125, 0.25, 0.125, 0.125...</td>\n",
              "      <td>[0.0, 0.0, 0.00021786492374727668, 0.000871459...</td>\n",
              "      <td>YO YAK</td>\n",
              "      <td>[1.0, 1.0, 1.0, 1.0, 0.2222222222222222, 0.222...</td>\n",
              "    </tr>\n",
              "    <tr>\n",
              "      <th>Thai_char_sqr/34/33-194-C2-YO YAK-1251.png</th>\n",
              "      <td>33</td>\n",
              "      <td>[1.0, 1.0, 1.0, 0.6388888888888888, 0.52777777...</td>\n",
              "      <td>[0.0, 0.0, 0.0, 0.125, 0.125, 0.25, 0.25, 0.25...</td>\n",
              "      <td>[0.0, 0.0, 0.00021786492374727668, 0.075054466...</td>\n",
              "      <td>YO YAK</td>\n",
              "      <td>[1.0, 1.0, 1.0, 0.3333333333333333, 0.25, 0.22...</td>\n",
              "    </tr>\n",
              "    <tr>\n",
              "      <th>Thai_char_sqr/34/33-194-C2-YO YAK-310.png</th>\n",
              "      <td>33</td>\n",
              "      <td>[1.0, 1.0, 1.0, 1.0, 1.0, 1.0, 1.0, 0.75, 0.63...</td>\n",
              "      <td>[0.0, 0.0, 0.0, 0.0, 0.0, 0.0, 0.0, 0.125, 0.1...</td>\n",
              "      <td>[0.0, 0.0, 0.0, 0.0, 0.0, 0.0, 0.0324618736383...</td>\n",
              "      <td>YO YAK</td>\n",
              "      <td>[1.0, 1.0, 1.0, 1.0, 1.0, 1.0, 1.0, 0.19444444...</td>\n",
              "    </tr>\n",
              "    <tr>\n",
              "      <th>Thai_char_sqr/34/33-194-C2-YO YAK-687.png</th>\n",
              "      <td>33</td>\n",
              "      <td>[1.0, 1.0, 0.6944444444444444, 0.6666666666666...</td>\n",
              "      <td>[0.0, 0.0, 0.125, 0.125, 0.125, 0.125, 0.125, ...</td>\n",
              "      <td>[0.00043572984749455336, 0.026143790849673203,...</td>\n",
              "      <td>YO YAK</td>\n",
              "      <td>[1.0, 1.0, 0.25, 0.2222222222222222, 0.1944444...</td>\n",
              "    </tr>\n",
              "    <tr>\n",
              "      <th>Thai_char_sqr/34/33-194-C2-YO YAK-1659.png</th>\n",
              "      <td>33</td>\n",
              "      <td>[1.0, 1.0, 1.0, 0.4166666666666667, 0.38888888...</td>\n",
              "      <td>[0.0, 0.0, 0.0, 0.125, 0.125, 0.125, 0.125, 0....</td>\n",
              "      <td>[0.0, 0.00043572984749455336, 0.00392156862745...</td>\n",
              "      <td>YO YAK</td>\n",
              "      <td>[1.0, 1.0, 1.0, 0.4166666666666667, 0.38888888...</td>\n",
              "    </tr>\n",
              "    <tr>\n",
              "      <th>Thai_char_sqr/34/33-194-C2-YO YAK-1252.png</th>\n",
              "      <td>33</td>\n",
              "      <td>[1.0, 1.0, 1.0, 1.0, 1.0, 1.0, 0.5277777777777...</td>\n",
              "      <td>[0.0, 0.0, 0.0, 0.0, 0.0, 0.0, 0.125, 0.125, 0...</td>\n",
              "      <td>[0.0, 0.0, 0.0, 0.0, 0.0, 0.000544662309368191...</td>\n",
              "      <td>YO YAK</td>\n",
              "      <td>[1.0, 1.0, 1.0, 1.0, 1.0, 1.0, 0.3333333333333...</td>\n",
              "    </tr>\n",
              "    <tr>\n",
              "      <th>Thai_char_sqr/34/33-194-C2-YO YAK-793.png</th>\n",
              "      <td>33</td>\n",
              "      <td>[1.0, 1.0, 1.0, 1.0, 1.0, 0.5277777777777778, ...</td>\n",
              "      <td>[0.0, 0.0, 0.0, 0.0, 0.0, 0.125, 0.25, 0.125, ...</td>\n",
              "      <td>[0.0, 0.0, 0.0, 0.0, 0.000326797385620915, 0.0...</td>\n",
              "      <td>YO YAK</td>\n",
              "      <td>[1.0, 1.0, 1.0, 1.0, 1.0, 0.3333333333333333, ...</td>\n",
              "    </tr>\n",
              "    <tr>\n",
              "      <th>Thai_char_sqr/34/33-194-C2-YO YAK-1116.png</th>\n",
              "      <td>33</td>\n",
              "      <td>[1.0, 1.0, 1.0, 1.0, 1.0, 1.0, 0.6666666666666...</td>\n",
              "      <td>[0.0, 0.0, 0.0, 0.0, 0.0, 0.0, 0.125, 0.125, 0...</td>\n",
              "      <td>[0.0, 0.0, 0.0, 0.0, 0.0, 0.00065359477124183,...</td>\n",
              "      <td>YO YAK</td>\n",
              "      <td>[1.0, 1.0, 1.0, 1.0, 1.0, 1.0, 0.1666666666666...</td>\n",
              "    </tr>\n",
              "    <tr>\n",
              "      <th>Thai_char_sqr/34/33-194-C2-YO YAK-330.png</th>\n",
              "      <td>33</td>\n",
              "      <td>[1.0, 1.0, 1.0, 1.0, 1.0, 1.0, 1.0, 0.61111111...</td>\n",
              "      <td>[0.0, 0.0, 0.0, 0.0, 0.0, 0.0, 0.0, 0.125, 0.1...</td>\n",
              "      <td>[0.0, 0.0, 0.0, 0.0, 0.0, 0.0, 0.0, 0.22570806...</td>\n",
              "      <td>YO YAK</td>\n",
              "      <td>[1.0, 1.0, 1.0, 1.0, 1.0, 1.0, 1.0, 0.16666666...</td>\n",
              "    </tr>\n",
              "    <tr>\n",
              "      <th>Thai_char_sqr/34/33-194-C2-YO YAK-251.png</th>\n",
              "      <td>33</td>\n",
              "      <td>[1.0, 1.0, 1.0, 1.0, 1.0, 1.0, 1.0, 0.66666666...</td>\n",
              "      <td>[0.0, 0.0, 0.0, 0.0, 0.0, 0.0, 0.0, 0.125, 0.1...</td>\n",
              "      <td>[0.0, 0.0, 0.0, 0.0, 0.0, 0.0, 0.0567538126361...</td>\n",
              "      <td>YO YAK</td>\n",
              "      <td>[1.0, 1.0, 1.0, 1.0, 1.0, 1.0, 1.0, 0.13888888...</td>\n",
              "    </tr>\n",
              "    <tr>\n",
              "      <th>Thai_char_sqr/34/33-194-C2-YO YAK-1079.png</th>\n",
              "      <td>33</td>\n",
              "      <td>[1.0, 1.0, 1.0, 1.0, 1.0, 1.0, 1.0, 1.0, 1.0, ...</td>\n",
              "      <td>[0.0, 0.0, 0.0, 0.0, 0.0, 0.0, 0.0, 0.0, 0.0, ...</td>\n",
              "      <td>[0.0, 0.0, 0.0, 0.0, 0.0, 0.0, 0.0, 0.0, 0.0, ...</td>\n",
              "      <td>YO YAK</td>\n",
              "      <td>[1.0, 1.0, 1.0, 1.0, 1.0, 1.0, 1.0, 1.0, 1.0, ...</td>\n",
              "    </tr>\n",
              "    <tr>\n",
              "      <th>Thai_char_sqr/34/33-194-C2-YO YAK-1123.png</th>\n",
              "      <td>33</td>\n",
              "      <td>[1.0, 1.0, 1.0, 1.0, 1.0, 1.0, 0.5833333333333...</td>\n",
              "      <td>[0.0, 0.0, 0.0, 0.0, 0.0, 0.0, 0.25, 0.125, 0....</td>\n",
              "      <td>[0.0, 0.0, 0.0, 0.0, 0.0, 0.000544662309368191...</td>\n",
              "      <td>YO YAK</td>\n",
              "      <td>[1.0, 1.0, 1.0, 1.0, 1.0, 1.0, 0.1944444444444...</td>\n",
              "    </tr>\n",
              "    <tr>\n",
              "      <th>Thai_char_sqr/34/33-194-C2-YO YAK-840.png</th>\n",
              "      <td>33</td>\n",
              "      <td>[1.0, 1.0, 1.0, 1.0, 1.0, 1.0, 0.5, 0.44444444...</td>\n",
              "      <td>[0.0, 0.0, 0.0, 0.0, 0.0, 0.0, 0.125, 0.125, 0...</td>\n",
              "      <td>[0.0, 0.0, 0.0, 0.0, 0.0, 0.09586056644880174,...</td>\n",
              "      <td>YO YAK</td>\n",
              "      <td>[1.0, 1.0, 1.0, 1.0, 1.0, 1.0, 0.25, 0.1111111...</td>\n",
              "    </tr>\n",
              "    <tr>\n",
              "      <th>Thai_char_sqr/34/33-194-C2-YO YAK-220.png</th>\n",
              "      <td>33</td>\n",
              "      <td>[1.0, 1.0, 1.0, 1.0, 1.0, 1.0, 1.0, 0.75, 0.61...</td>\n",
              "      <td>[0.0, 0.0, 0.0, 0.0, 0.0, 0.0, 0.0, 0.125, 0.1...</td>\n",
              "      <td>[0.0, 0.0, 0.0, 0.0, 0.0, 0.0, 0.0138344226579...</td>\n",
              "      <td>YO YAK</td>\n",
              "      <td>[1.0, 1.0, 1.0, 1.0, 1.0, 1.0, 1.0, 0.16666666...</td>\n",
              "    </tr>\n",
              "    <tr>\n",
              "      <th>Thai_char_sqr/34/33-194-C2-YO YAK-726.png</th>\n",
              "      <td>33</td>\n",
              "      <td>[1.0, 1.0, 1.0, 0.6388888888888888, 0.36111111...</td>\n",
              "      <td>[0.0, 0.0, 0.0, 0.125, 0.25, 0.125, 0.125, 0.1...</td>\n",
              "      <td>[0.0, 0.00043572984749455336, 0.01481481481481...</td>\n",
              "      <td>YO YAK</td>\n",
              "      <td>[1.0, 1.0, 1.0, 0.3055555555555556, 0.30555555...</td>\n",
              "    </tr>\n",
              "    <tr>\n",
              "      <th>Thai_char_sqr/34/33-194-C2-YO YAK-618.png</th>\n",
              "      <td>33</td>\n",
              "      <td>[1.0, 0.8055555555555556, 0.4444444444444444, ...</td>\n",
              "      <td>[0.0, 0.125, 0.25, 0.125, 0.125, 0.125, 0.25, ...</td>\n",
              "      <td>[0.0008714596949891067, 0.13736383442265795, 0...</td>\n",
              "      <td>YO YAK</td>\n",
              "      <td>[1.0, 0.16666666666666666, 0.1388888888888889,...</td>\n",
              "    </tr>\n",
              "    <tr>\n",
              "      <th>Thai_char_sqr/34/33-194-C2-YO YAK-1219.png</th>\n",
              "      <td>33</td>\n",
              "      <td>[1.0, 1.0, 1.0, 1.0, 1.0, 1.0, 1.0, 0.38888888...</td>\n",
              "      <td>[0.0, 0.0, 0.0, 0.0, 0.0, 0.0, 0.0, 0.25, 0.25...</td>\n",
              "      <td>[0.0, 0.0, 0.0, 0.0, 0.0, 0.0, 0.0, 0.12178649...</td>\n",
              "      <td>YO YAK</td>\n",
              "      <td>[1.0, 1.0, 1.0, 1.0, 1.0, 1.0, 1.0, 0.25, 0.25...</td>\n",
              "    </tr>\n",
              "    <tr>\n",
              "      <th>Thai_char_sqr/34/33-194-C2-YO YAK-996.png</th>\n",
              "      <td>33</td>\n",
              "      <td>[1.0, 1.0, 1.0, 1.0, 1.0, 1.0, 0.5277777777777...</td>\n",
              "      <td>[0.0, 0.0, 0.0, 0.0, 0.0, 0.0, 0.125, 0.125, 0...</td>\n",
              "      <td>[0.0, 0.0, 0.0, 0.0, 0.0, 0.000217864923747276...</td>\n",
              "      <td>YO YAK</td>\n",
              "      <td>[1.0, 1.0, 1.0, 1.0, 1.0, 1.0, 0.25, 0.1388888...</td>\n",
              "    </tr>\n",
              "    <tr>\n",
              "      <th>Thai_char_sqr/34/33-194-C2-YO YAK-991.png</th>\n",
              "      <td>33</td>\n",
              "      <td>[1.0, 1.0, 1.0, 1.0, 1.0, 1.0, 1.0, 0.58333333...</td>\n",
              "      <td>[0.0, 0.0, 0.0, 0.0, 0.0, 0.0, 0.0, 0.125, 0.1...</td>\n",
              "      <td>[0.0, 0.0, 0.0, 0.0, 0.0, 0.000108932461873638...</td>\n",
              "      <td>YO YAK</td>\n",
              "      <td>[1.0, 1.0, 1.0, 1.0, 1.0, 1.0, 1.0, 0.25, 0.19...</td>\n",
              "    </tr>\n",
              "    <tr>\n",
              "      <th>...</th>\n",
              "      <td>...</td>\n",
              "      <td>...</td>\n",
              "      <td>...</td>\n",
              "      <td>...</td>\n",
              "      <td>...</td>\n",
              "      <td>...</td>\n",
              "    </tr>\n",
              "    <tr>\n",
              "      <th>Thai_char_sqr/15/14-175-AF-TO PATAK-1083.png</th>\n",
              "      <td>14</td>\n",
              "      <td>[1.0, 1.0, 1.0, 1.0, 1.0, 1.0, 1.0, 1.0, 0.055...</td>\n",
              "      <td>[0.0, 0.0, 0.0, 0.0, 0.0, 0.0, 0.0, 0.0, 0.125...</td>\n",
              "      <td>[0.0, 0.0, 0.0, 0.0, 0.0, 0.0, 0.0, 0.00032679...</td>\n",
              "      <td>TO PATAK</td>\n",
              "      <td>[1.0, 1.0, 1.0, 1.0, 1.0, 1.0, 1.0, 1.0, 0.861...</td>\n",
              "    </tr>\n",
              "    <tr>\n",
              "      <th>Thai_char_sqr/15/14-175-AF-TO PATAK-1062.png</th>\n",
              "      <td>14</td>\n",
              "      <td>[1.0, 1.0, 1.0, 1.0, 1.0, 1.0, 1.0, 0.83333333...</td>\n",
              "      <td>[0.0, 0.0, 0.0, 0.0, 0.0, 0.0, 0.0, 0.125, 0.1...</td>\n",
              "      <td>[0.0, 0.0, 0.0, 0.0, 0.0, 0.0, 0.0, 0.03932461...</td>\n",
              "      <td>TO PATAK</td>\n",
              "      <td>[1.0, 1.0, 1.0, 1.0, 1.0, 1.0, 1.0, 0.13888888...</td>\n",
              "    </tr>\n",
              "    <tr>\n",
              "      <th>Thai_char_sqr/15/14-175-AF-TO PATAK-360.png</th>\n",
              "      <td>14</td>\n",
              "      <td>[1.0, 1.0, 1.0, 1.0, 1.0, 1.0, 1.0, 1.0, 0.083...</td>\n",
              "      <td>[0.0, 0.0, 0.0, 0.0, 0.0, 0.0, 0.0, 0.0, 0.125...</td>\n",
              "      <td>[0.0, 0.0, 0.0, 0.0, 0.0, 0.0, 0.0, 0.00795206...</td>\n",
              "      <td>TO PATAK</td>\n",
              "      <td>[1.0, 1.0, 1.0, 1.0, 1.0, 1.0, 1.0, 1.0, 0.805...</td>\n",
              "    </tr>\n",
              "    <tr>\n",
              "      <th>Thai_char_sqr/15/14-175-AF-TO PATAK-532.png</th>\n",
              "      <td>14</td>\n",
              "      <td>[1.0, 1.0, 1.0, 1.0, 1.0, 0.027777777777777776...</td>\n",
              "      <td>[0.0, 0.0, 0.0, 0.0, 0.0, 0.125, 0.125, 0.25, ...</td>\n",
              "      <td>[0.0, 0.0, 0.0, 0.0, 0.00010893246187363834, 0...</td>\n",
              "      <td>TO PATAK</td>\n",
              "      <td>[1.0, 1.0, 1.0, 1.0, 1.0, 0.8888888888888888, ...</td>\n",
              "    </tr>\n",
              "    <tr>\n",
              "      <th>Thai_char_sqr/15/14-175-AF-TO PATAK-1203.png</th>\n",
              "      <td>14</td>\n",
              "      <td>[1.0, 0.1111111111111111, 0.08333333333333333,...</td>\n",
              "      <td>[0.0, 0.125, 0.125, 0.125, 0.125, 0.125, 0.125...</td>\n",
              "      <td>[0.00010893246187363834, 0.03289760348583878, ...</td>\n",
              "      <td>TO PATAK</td>\n",
              "      <td>[1.0, 0.8611111111111112, 0.8333333333333334, ...</td>\n",
              "    </tr>\n",
              "    <tr>\n",
              "      <th>Thai_char_sqr/15/14-175-AF-TO PATAK-605.png</th>\n",
              "      <td>14</td>\n",
              "      <td>[1.0, 1.0, 1.0, 1.0, 1.0, 0.05555555555555555,...</td>\n",
              "      <td>[0.0, 0.0, 0.0, 0.0, 0.0, 0.125, 0.125, 0.125,...</td>\n",
              "      <td>[0.0, 0.0, 0.0, 0.0, 0.00021786492374727668, 0...</td>\n",
              "      <td>TO PATAK</td>\n",
              "      <td>[1.0, 1.0, 1.0, 1.0, 1.0, 0.9166666666666666, ...</td>\n",
              "    </tr>\n",
              "    <tr>\n",
              "      <th>Thai_char_sqr/15/14-175-AF-TO PATAK-867.png</th>\n",
              "      <td>14</td>\n",
              "      <td>[1.0, 1.0, 1.0, 1.0, 0.08333333333333333, 0.02...</td>\n",
              "      <td>[0.0, 0.0, 0.0, 0.0, 0.125, 0.125, 0.25, 0.25,...</td>\n",
              "      <td>[0.0, 0.0, 0.0, 0.0, 0.13562091503267973, 0.22...</td>\n",
              "      <td>TO PATAK</td>\n",
              "      <td>[1.0, 1.0, 1.0, 1.0, 0.8055555555555556, 0.75,...</td>\n",
              "    </tr>\n",
              "    <tr>\n",
              "      <th>Thai_char_sqr/15/14-175-AF-TO PATAK-1489.png</th>\n",
              "      <td>14</td>\n",
              "      <td>[1.0, 1.0, 1.0, 0.027777777777777776, 0.027777...</td>\n",
              "      <td>[0.0, 0.0, 0.0, 0.125, 0.125, 0.125, 0.125, 0....</td>\n",
              "      <td>[0.0, 0.0, 0.0, 0.05065359477124183, 0.1011982...</td>\n",
              "      <td>TO PATAK</td>\n",
              "      <td>[1.0, 1.0, 1.0, 0.9166666666666666, 0.88888888...</td>\n",
              "    </tr>\n",
              "    <tr>\n",
              "      <th>Thai_char_sqr/15/14-175-AF-TO PATAK-1173.png</th>\n",
              "      <td>14</td>\n",
              "      <td>[1.0, 1.0, 1.0, 1.0, 0.1111111111111111, 0.111...</td>\n",
              "      <td>[0.0, 0.0, 0.0, 0.0, 0.125, 0.125, 0.125, 0.12...</td>\n",
              "      <td>[0.0, 0.0, 0.0, 0.009694989106753813, 0.074074...</td>\n",
              "      <td>TO PATAK</td>\n",
              "      <td>[1.0, 1.0, 1.0, 1.0, 0.8333333333333334, 0.805...</td>\n",
              "    </tr>\n",
              "    <tr>\n",
              "      <th>Thai_char_sqr/15/14-175-AF-TO PATAK-194.png</th>\n",
              "      <td>14</td>\n",
              "      <td>[1.0, 1.0, 1.0, 1.0, 1.0, 1.0, 1.0, 1.0, 0.055...</td>\n",
              "      <td>[0.0, 0.0, 0.0, 0.0, 0.0, 0.0, 0.0, 0.0, 0.125...</td>\n",
              "      <td>[0.0, 0.0, 0.0, 0.0, 0.0, 0.0, 0.0, 0.00381263...</td>\n",
              "      <td>TO PATAK</td>\n",
              "      <td>[1.0, 1.0, 1.0, 1.0, 1.0, 1.0, 1.0, 1.0, 0.861...</td>\n",
              "    </tr>\n",
              "    <tr>\n",
              "      <th>Thai_char_sqr/15/14-175-AF-TO PATAK-38.png</th>\n",
              "      <td>14</td>\n",
              "      <td>[1.0, 1.0, 1.0, 1.0, 1.0, 1.0, 1.0, 1.0, 1.0, ...</td>\n",
              "      <td>[0.0, 0.0, 0.0, 0.0, 0.0, 0.0, 0.0, 0.0, 0.0, ...</td>\n",
              "      <td>[0.0, 0.0, 0.0, 0.0, 0.0, 0.0, 0.0, 0.0, 0.0, ...</td>\n",
              "      <td>TO PATAK</td>\n",
              "      <td>[1.0, 1.0, 1.0, 1.0, 1.0, 1.0, 1.0, 1.0, 1.0, ...</td>\n",
              "    </tr>\n",
              "    <tr>\n",
              "      <th>Thai_char_sqr/15/14-175-AF-TO PATAK-1239.png</th>\n",
              "      <td>14</td>\n",
              "      <td>[1.0, 1.0, 1.0, 0.027777777777777776, 0.0, 0.0...</td>\n",
              "      <td>[0.0, 0.0, 0.0, 0.125, 0.125, 0.25, 0.25, 0.25...</td>\n",
              "      <td>[0.0, 0.0, 0.000326797385620915, 0.09586056644...</td>\n",
              "      <td>TO PATAK</td>\n",
              "      <td>[1.0, 1.0, 1.0, 0.8888888888888888, 0.86111111...</td>\n",
              "    </tr>\n",
              "    <tr>\n",
              "      <th>Thai_char_sqr/15/14-175-AF-TO PATAK-372.png</th>\n",
              "      <td>14</td>\n",
              "      <td>[1.0, 1.0, 1.0, 1.0, 1.0, 1.0, 1.0, 1.0, 1.0, ...</td>\n",
              "      <td>[0.0, 0.0, 0.0, 0.0, 0.0, 0.0, 0.0, 0.0, 0.0, ...</td>\n",
              "      <td>[0.0, 0.0, 0.0, 0.0, 0.0, 0.0, 0.0, 0.0, 0.025...</td>\n",
              "      <td>TO PATAK</td>\n",
              "      <td>[1.0, 1.0, 1.0, 1.0, 1.0, 1.0, 1.0, 1.0, 1.0, ...</td>\n",
              "    </tr>\n",
              "    <tr>\n",
              "      <th>Thai_char_sqr/15/14-175-AF-TO PATAK-330.png</th>\n",
              "      <td>14</td>\n",
              "      <td>[1.0, 1.0, 1.0, 1.0, 1.0, 1.0, 1.0, 1.0, 1.0, ...</td>\n",
              "      <td>[0.0, 0.0, 0.0, 0.0, 0.0, 0.0, 0.0, 0.0, 0.0, ...</td>\n",
              "      <td>[0.0, 0.0, 0.0, 0.0, 0.0, 0.0, 0.0, 0.0, 0.047...</td>\n",
              "      <td>TO PATAK</td>\n",
              "      <td>[1.0, 1.0, 1.0, 1.0, 1.0, 1.0, 1.0, 1.0, 1.0, ...</td>\n",
              "    </tr>\n",
              "    <tr>\n",
              "      <th>Thai_char_sqr/15/14-175-AF-TO PATAK-1331.png</th>\n",
              "      <td>14</td>\n",
              "      <td>[1.0, 1.0, 0.05555555555555555, 0.027777777777...</td>\n",
              "      <td>[0.0, 0.0, 0.125, 0.125, 0.25, 0.25, 0.25, 0.1...</td>\n",
              "      <td>[0.0, 0.000326797385620915, 0.0701525054466230...</td>\n",
              "      <td>TO PATAK</td>\n",
              "      <td>[1.0, 1.0, 0.8888888888888888, 0.8055555555555...</td>\n",
              "    </tr>\n",
              "    <tr>\n",
              "      <th>Thai_char_sqr/15/14-175-AF-TO PATAK-1345.png</th>\n",
              "      <td>14</td>\n",
              "      <td>[1.0, 1.0, 1.0, 1.0, 1.0, 1.0, 0.0, 0.0, 0.0, ...</td>\n",
              "      <td>[0.0, 0.0, 0.0, 0.0, 0.0, 0.0, 0.125, 0.125, 0...</td>\n",
              "      <td>[0.0, 0.0, 0.0, 0.0, 0.0, 0.000544662309368191...</td>\n",
              "      <td>TO PATAK</td>\n",
              "      <td>[1.0, 1.0, 1.0, 1.0, 1.0, 1.0, 0.8888888888888...</td>\n",
              "    </tr>\n",
              "    <tr>\n",
              "      <th>Thai_char_sqr/15/14-175-AF-TO PATAK-815.png</th>\n",
              "      <td>14</td>\n",
              "      <td>[1.0, 1.0, 1.0, 1.0, 1.0, 1.0, 1.0, 0.13888888...</td>\n",
              "      <td>[0.0, 0.0, 0.0, 0.0, 0.0, 0.0, 0.0, 0.25, 0.25...</td>\n",
              "      <td>[0.0, 0.0, 0.0, 0.0, 0.0, 0.0, 0.0003267973856...</td>\n",
              "      <td>TO PATAK</td>\n",
              "      <td>[1.0, 1.0, 1.0, 1.0, 1.0, 1.0, 1.0, 0.52777777...</td>\n",
              "    </tr>\n",
              "    <tr>\n",
              "      <th>Thai_char_sqr/15/14-175-AF-TO PATAK-1115.png</th>\n",
              "      <td>14</td>\n",
              "      <td>[1.0, 1.0, 1.0, 1.0, 1.0, 1.0, 1.0, 1.0, 1.0, ...</td>\n",
              "      <td>[0.0, 0.0, 0.0, 0.0, 0.0, 0.0, 0.0, 0.0, 0.0, ...</td>\n",
              "      <td>[0.0, 0.0, 0.0, 0.0, 0.0, 0.0, 0.0, 0.0, 0.0, ...</td>\n",
              "      <td>TO PATAK</td>\n",
              "      <td>[1.0, 1.0, 1.0, 1.0, 1.0, 1.0, 1.0, 1.0, 1.0, ...</td>\n",
              "    </tr>\n",
              "    <tr>\n",
              "      <th>Thai_char_sqr/15/14-175-AF-TO PATAK-1163.png</th>\n",
              "      <td>14</td>\n",
              "      <td>[1.0, 1.0, 1.0, 1.0, 1.0, 1.0, 1.0, 0.13888888...</td>\n",
              "      <td>[0.0, 0.0, 0.0, 0.0, 0.0, 0.0, 0.0, 0.125, 0.1...</td>\n",
              "      <td>[0.0, 0.0, 0.0, 0.0, 0.0, 0.0, 0.0, 0.04880174...</td>\n",
              "      <td>TO PATAK</td>\n",
              "      <td>[1.0, 1.0, 1.0, 1.0, 1.0, 1.0, 1.0, 0.80555555...</td>\n",
              "    </tr>\n",
              "    <tr>\n",
              "      <th>Thai_char_sqr/15/14-175-AF-TO PATAK-980.png</th>\n",
              "      <td>14</td>\n",
              "      <td>[1.0, 1.0, 1.0, 1.0, 1.0, 1.0, 0.75, 0.7222222...</td>\n",
              "      <td>[0.0, 0.0, 0.0, 0.0, 0.0, 0.0, 0.125, 0.125, 0...</td>\n",
              "      <td>[0.0, 0.0, 0.0, 0.0, 0.00010893246187363834, 0...</td>\n",
              "      <td>TO PATAK</td>\n",
              "      <td>[1.0, 1.0, 1.0, 1.0, 1.0, 1.0, 0.1944444444444...</td>\n",
              "    </tr>\n",
              "    <tr>\n",
              "      <th>Thai_char_sqr/15/14-175-AF-TO PATAK-1211.png</th>\n",
              "      <td>14</td>\n",
              "      <td>[1.0, 1.0, 1.0, 1.0, 1.0, 1.0, 1.0, 1.0, 0.138...</td>\n",
              "      <td>[0.0, 0.0, 0.0, 0.0, 0.0, 0.0, 0.0, 0.0, 0.125...</td>\n",
              "      <td>[0.0, 0.0, 0.0, 0.0, 0.0, 0.0, 0.0, 0.00032679...</td>\n",
              "      <td>TO PATAK</td>\n",
              "      <td>[1.0, 1.0, 1.0, 1.0, 1.0, 1.0, 1.0, 1.0, 0.805...</td>\n",
              "    </tr>\n",
              "    <tr>\n",
              "      <th>Thai_char_sqr/15/14-175-AF-TO PATAK-683.png</th>\n",
              "      <td>14</td>\n",
              "      <td>[1.0, 1.0, 1.0, 1.0, 0.05555555555555555, 0.02...</td>\n",
              "      <td>[0.0, 0.0, 0.0, 0.0, 0.125, 0.125, 0.25, 0.25,...</td>\n",
              "      <td>[0.0, 0.0, 0.00010893246187363834, 0.030501089...</td>\n",
              "      <td>TO PATAK</td>\n",
              "      <td>[1.0, 1.0, 1.0, 1.0, 0.8055555555555556, 0.777...</td>\n",
              "    </tr>\n",
              "    <tr>\n",
              "      <th>Thai_char_sqr/15/14-175-AF-TO PATAK-661.png</th>\n",
              "      <td>14</td>\n",
              "      <td>[1.0, 1.0, 1.0, 0.05555555555555555, 0.0555555...</td>\n",
              "      <td>[0.0, 0.0, 0.0, 0.125, 0.125, 0.125, 0.125, 0....</td>\n",
              "      <td>[0.0, 0.0, 0.021350762527233117, 0.08714596949...</td>\n",
              "      <td>TO PATAK</td>\n",
              "      <td>[1.0, 1.0, 1.0, 0.8611111111111112, 0.83333333...</td>\n",
              "    </tr>\n",
              "    <tr>\n",
              "      <th>Thai_char_sqr/15/14-175-AF-TO PATAK-1333.png</th>\n",
              "      <td>14</td>\n",
              "      <td>[1.0, 1.0, 0.027777777777777776, 0.0, 0.0, 0.0...</td>\n",
              "      <td>[0.0, 0.0, 0.125, 0.125, 0.25, 0.375, 0.375, 0...</td>\n",
              "      <td>[0.0, 0.00021786492374727668, 0.08191721132897...</td>\n",
              "      <td>TO PATAK</td>\n",
              "      <td>[1.0, 1.0, 0.8888888888888888, 0.8333333333333...</td>\n",
              "    </tr>\n",
              "    <tr>\n",
              "      <th>Thai_char_sqr/15/14-175-AF-TO PATAK-1587.png</th>\n",
              "      <td>14</td>\n",
              "      <td>[1.0, 1.0, 1.0, 0.027777777777777776, 0.0, 0.0...</td>\n",
              "      <td>[0.0, 0.0, 0.0, 0.125, 0.125, 0.125, 0.125, 0....</td>\n",
              "      <td>[0.0, 0.0, 0.0, 0.03159041394335512, 0.1083877...</td>\n",
              "      <td>TO PATAK</td>\n",
              "      <td>[1.0, 1.0, 1.0, 0.9444444444444444, 0.88888888...</td>\n",
              "    </tr>\n",
              "    <tr>\n",
              "      <th>Thai_char_sqr/15/14-175-AF-TO PATAK-97.png</th>\n",
              "      <td>14</td>\n",
              "      <td>[1.0, 1.0, 1.0, 1.0, 1.0, 1.0, 1.0, 1.0, 0.694...</td>\n",
              "      <td>[0.0, 0.0, 0.0, 0.0, 0.0, 0.0, 0.0, 0.0, 0.125...</td>\n",
              "      <td>[0.0, 0.0, 0.0, 0.0, 0.0, 0.0, 0.0, 0.00043572...</td>\n",
              "      <td>TO PATAK</td>\n",
              "      <td>[1.0, 1.0, 1.0, 1.0, 1.0, 1.0, 1.0, 1.0, 0.222...</td>\n",
              "    </tr>\n",
              "    <tr>\n",
              "      <th>Thai_char_sqr/15/14-175-AF-TO PATAK-963.png</th>\n",
              "      <td>14</td>\n",
              "      <td>[1.0, 1.0, 1.0, 1.0, 1.0, 0.7777777777777778, ...</td>\n",
              "      <td>[0.0, 0.0, 0.0, 0.0, 0.0, 0.125, 0.25, 0.25, 0...</td>\n",
              "      <td>[0.0, 0.0, 0.0, 0.0, 0.00021786492374727668, 0...</td>\n",
              "      <td>TO PATAK</td>\n",
              "      <td>[1.0, 1.0, 1.0, 1.0, 1.0, 0.16666666666666666,...</td>\n",
              "    </tr>\n",
              "    <tr>\n",
              "      <th>Thai_char_sqr/15/14-175-AF-TO PATAK-1553.png</th>\n",
              "      <td>14</td>\n",
              "      <td>[1.0, 1.0, 1.0, 1.0, 1.0, 0.027777777777777776...</td>\n",
              "      <td>[0.0, 0.0, 0.0, 0.0, 0.0, 0.125, 0.125, 0.25, ...</td>\n",
              "      <td>[0.0, 0.0, 0.0, 0.0, 0.00021786492374727668, 0...</td>\n",
              "      <td>TO PATAK</td>\n",
              "      <td>[1.0, 1.0, 1.0, 1.0, 1.0, 0.8333333333333334, ...</td>\n",
              "    </tr>\n",
              "    <tr>\n",
              "      <th>Thai_char_sqr/15/14-175-AF-TO PATAK-1423.png</th>\n",
              "      <td>14</td>\n",
              "      <td>[1.0, 0.05555555555555555, 0.02777777777777777...</td>\n",
              "      <td>[0.0, 0.125, 0.125, 0.125, 0.25, 0.25, 0.25, 0...</td>\n",
              "      <td>[0.0, 0.03965141612200436, 0.12407407407407407...</td>\n",
              "      <td>TO PATAK</td>\n",
              "      <td>[1.0, 0.9166666666666666, 0.8611111111111112, ...</td>\n",
              "    </tr>\n",
              "    <tr>\n",
              "      <th>Thai_char_sqr/15/14-175-AF-TO PATAK-1272.png</th>\n",
              "      <td>14</td>\n",
              "      <td>[1.0, 1.0, 1.0, 1.0, 0.027777777777777776, 0.0...</td>\n",
              "      <td>[0.0, 0.0, 0.0, 0.0, 0.25, 0.25, 0.5, 0.5, 0.5...</td>\n",
              "      <td>[0.0, 0.0, 0.0, 0.00021786492374727668, 0.0860...</td>\n",
              "      <td>TO PATAK</td>\n",
              "      <td>[1.0, 1.0, 1.0, 1.0, 0.19444444444444445, 0.11...</td>\n",
              "    </tr>\n",
              "  </tbody>\n",
              "</table>\n",
              "<p>14490 rows × 6 columns</p>\n",
              "</div>"
            ],
            "text/plain": [
              "                                              label  \\\n",
              "Thai_char_sqr/34/33-194-C2-YO YAK-1136.png       33   \n",
              "Thai_char_sqr/34/33-194-C2-YO YAK-544.png        33   \n",
              "Thai_char_sqr/34/33-194-C2-YO YAK-1233.png       33   \n",
              "Thai_char_sqr/34/33-194-C2-YO YAK-346.png        33   \n",
              "Thai_char_sqr/34/33-194-C2-YO YAK-1052.png       33   \n",
              "Thai_char_sqr/34/33-194-C2-YO YAK-71.png         33   \n",
              "Thai_char_sqr/34/33-194-C2-YO YAK-794.png        33   \n",
              "Thai_char_sqr/34/33-194-C2-YO YAK-604.png        33   \n",
              "Thai_char_sqr/34/33-194-C2-YO YAK-1248.png       33   \n",
              "Thai_char_sqr/34/33-194-C2-YO YAK-1275.png       33   \n",
              "Thai_char_sqr/34/33-194-C2-YO YAK-1353.png       33   \n",
              "Thai_char_sqr/34/33-194-C2-YO YAK-730.png        33   \n",
              "Thai_char_sqr/34/33-194-C2-YO YAK-1251.png       33   \n",
              "Thai_char_sqr/34/33-194-C2-YO YAK-310.png        33   \n",
              "Thai_char_sqr/34/33-194-C2-YO YAK-687.png        33   \n",
              "Thai_char_sqr/34/33-194-C2-YO YAK-1659.png       33   \n",
              "Thai_char_sqr/34/33-194-C2-YO YAK-1252.png       33   \n",
              "Thai_char_sqr/34/33-194-C2-YO YAK-793.png        33   \n",
              "Thai_char_sqr/34/33-194-C2-YO YAK-1116.png       33   \n",
              "Thai_char_sqr/34/33-194-C2-YO YAK-330.png        33   \n",
              "Thai_char_sqr/34/33-194-C2-YO YAK-251.png        33   \n",
              "Thai_char_sqr/34/33-194-C2-YO YAK-1079.png       33   \n",
              "Thai_char_sqr/34/33-194-C2-YO YAK-1123.png       33   \n",
              "Thai_char_sqr/34/33-194-C2-YO YAK-840.png        33   \n",
              "Thai_char_sqr/34/33-194-C2-YO YAK-220.png        33   \n",
              "Thai_char_sqr/34/33-194-C2-YO YAK-726.png        33   \n",
              "Thai_char_sqr/34/33-194-C2-YO YAK-618.png        33   \n",
              "Thai_char_sqr/34/33-194-C2-YO YAK-1219.png       33   \n",
              "Thai_char_sqr/34/33-194-C2-YO YAK-996.png        33   \n",
              "Thai_char_sqr/34/33-194-C2-YO YAK-991.png        33   \n",
              "...                                             ...   \n",
              "Thai_char_sqr/15/14-175-AF-TO PATAK-1083.png     14   \n",
              "Thai_char_sqr/15/14-175-AF-TO PATAK-1062.png     14   \n",
              "Thai_char_sqr/15/14-175-AF-TO PATAK-360.png      14   \n",
              "Thai_char_sqr/15/14-175-AF-TO PATAK-532.png      14   \n",
              "Thai_char_sqr/15/14-175-AF-TO PATAK-1203.png     14   \n",
              "Thai_char_sqr/15/14-175-AF-TO PATAK-605.png      14   \n",
              "Thai_char_sqr/15/14-175-AF-TO PATAK-867.png      14   \n",
              "Thai_char_sqr/15/14-175-AF-TO PATAK-1489.png     14   \n",
              "Thai_char_sqr/15/14-175-AF-TO PATAK-1173.png     14   \n",
              "Thai_char_sqr/15/14-175-AF-TO PATAK-194.png      14   \n",
              "Thai_char_sqr/15/14-175-AF-TO PATAK-38.png       14   \n",
              "Thai_char_sqr/15/14-175-AF-TO PATAK-1239.png     14   \n",
              "Thai_char_sqr/15/14-175-AF-TO PATAK-372.png      14   \n",
              "Thai_char_sqr/15/14-175-AF-TO PATAK-330.png      14   \n",
              "Thai_char_sqr/15/14-175-AF-TO PATAK-1331.png     14   \n",
              "Thai_char_sqr/15/14-175-AF-TO PATAK-1345.png     14   \n",
              "Thai_char_sqr/15/14-175-AF-TO PATAK-815.png      14   \n",
              "Thai_char_sqr/15/14-175-AF-TO PATAK-1115.png     14   \n",
              "Thai_char_sqr/15/14-175-AF-TO PATAK-1163.png     14   \n",
              "Thai_char_sqr/15/14-175-AF-TO PATAK-980.png      14   \n",
              "Thai_char_sqr/15/14-175-AF-TO PATAK-1211.png     14   \n",
              "Thai_char_sqr/15/14-175-AF-TO PATAK-683.png      14   \n",
              "Thai_char_sqr/15/14-175-AF-TO PATAK-661.png      14   \n",
              "Thai_char_sqr/15/14-175-AF-TO PATAK-1333.png     14   \n",
              "Thai_char_sqr/15/14-175-AF-TO PATAK-1587.png     14   \n",
              "Thai_char_sqr/15/14-175-AF-TO PATAK-97.png       14   \n",
              "Thai_char_sqr/15/14-175-AF-TO PATAK-963.png      14   \n",
              "Thai_char_sqr/15/14-175-AF-TO PATAK-1553.png     14   \n",
              "Thai_char_sqr/15/14-175-AF-TO PATAK-1423.png     14   \n",
              "Thai_char_sqr/15/14-175-AF-TO PATAK-1272.png     14   \n",
              "\n",
              "                                                                                          lower  \\\n",
              "Thai_char_sqr/34/33-194-C2-YO YAK-1136.png    [1.0, 1.0, 1.0, 1.0, 1.0, 1.0, 1.0, 1.0, 1.0, ...   \n",
              "Thai_char_sqr/34/33-194-C2-YO YAK-544.png     [1.0, 1.0, 1.0, 0.4722222222222222, 0.38888888...   \n",
              "Thai_char_sqr/34/33-194-C2-YO YAK-1233.png    [1.0, 1.0, 1.0, 1.0, 0.5277777777777778, 0.444...   \n",
              "Thai_char_sqr/34/33-194-C2-YO YAK-346.png     [1.0, 1.0, 1.0, 1.0, 1.0, 1.0, 1.0, 0.66666666...   \n",
              "Thai_char_sqr/34/33-194-C2-YO YAK-1052.png    [1.0, 1.0, 1.0, 1.0, 0.6388888888888888, 0.472...   \n",
              "Thai_char_sqr/34/33-194-C2-YO YAK-71.png      [1.0, 0.5833333333333334, 0.5555555555555556, ...   \n",
              "Thai_char_sqr/34/33-194-C2-YO YAK-794.png     [1.0, 1.0, 1.0, 1.0, 1.0, 1.0, 0.6388888888888...   \n",
              "Thai_char_sqr/34/33-194-C2-YO YAK-604.png     [1.0, 1.0, 1.0, 1.0, 1.0, 1.0, 1.0, 0.44444444...   \n",
              "Thai_char_sqr/34/33-194-C2-YO YAK-1248.png    [1.0, 1.0, 1.0, 1.0, 1.0, 0.5, 0.4444444444444...   \n",
              "Thai_char_sqr/34/33-194-C2-YO YAK-1275.png    [1.0, 1.0, 0.7777777777777778, 0.7777777777777...   \n",
              "Thai_char_sqr/34/33-194-C2-YO YAK-1353.png    [1.0, 1.0, 1.0, 0.5833333333333334, 0.52777777...   \n",
              "Thai_char_sqr/34/33-194-C2-YO YAK-730.png     [1.0, 1.0, 1.0, 1.0, 0.7222222222222222, 0.527...   \n",
              "Thai_char_sqr/34/33-194-C2-YO YAK-1251.png    [1.0, 1.0, 1.0, 0.6388888888888888, 0.52777777...   \n",
              "Thai_char_sqr/34/33-194-C2-YO YAK-310.png     [1.0, 1.0, 1.0, 1.0, 1.0, 1.0, 1.0, 0.75, 0.63...   \n",
              "Thai_char_sqr/34/33-194-C2-YO YAK-687.png     [1.0, 1.0, 0.6944444444444444, 0.6666666666666...   \n",
              "Thai_char_sqr/34/33-194-C2-YO YAK-1659.png    [1.0, 1.0, 1.0, 0.4166666666666667, 0.38888888...   \n",
              "Thai_char_sqr/34/33-194-C2-YO YAK-1252.png    [1.0, 1.0, 1.0, 1.0, 1.0, 1.0, 0.5277777777777...   \n",
              "Thai_char_sqr/34/33-194-C2-YO YAK-793.png     [1.0, 1.0, 1.0, 1.0, 1.0, 0.5277777777777778, ...   \n",
              "Thai_char_sqr/34/33-194-C2-YO YAK-1116.png    [1.0, 1.0, 1.0, 1.0, 1.0, 1.0, 0.6666666666666...   \n",
              "Thai_char_sqr/34/33-194-C2-YO YAK-330.png     [1.0, 1.0, 1.0, 1.0, 1.0, 1.0, 1.0, 0.61111111...   \n",
              "Thai_char_sqr/34/33-194-C2-YO YAK-251.png     [1.0, 1.0, 1.0, 1.0, 1.0, 1.0, 1.0, 0.66666666...   \n",
              "Thai_char_sqr/34/33-194-C2-YO YAK-1079.png    [1.0, 1.0, 1.0, 1.0, 1.0, 1.0, 1.0, 1.0, 1.0, ...   \n",
              "Thai_char_sqr/34/33-194-C2-YO YAK-1123.png    [1.0, 1.0, 1.0, 1.0, 1.0, 1.0, 0.5833333333333...   \n",
              "Thai_char_sqr/34/33-194-C2-YO YAK-840.png     [1.0, 1.0, 1.0, 1.0, 1.0, 1.0, 0.5, 0.44444444...   \n",
              "Thai_char_sqr/34/33-194-C2-YO YAK-220.png     [1.0, 1.0, 1.0, 1.0, 1.0, 1.0, 1.0, 0.75, 0.61...   \n",
              "Thai_char_sqr/34/33-194-C2-YO YAK-726.png     [1.0, 1.0, 1.0, 0.6388888888888888, 0.36111111...   \n",
              "Thai_char_sqr/34/33-194-C2-YO YAK-618.png     [1.0, 0.8055555555555556, 0.4444444444444444, ...   \n",
              "Thai_char_sqr/34/33-194-C2-YO YAK-1219.png    [1.0, 1.0, 1.0, 1.0, 1.0, 1.0, 1.0, 0.38888888...   \n",
              "Thai_char_sqr/34/33-194-C2-YO YAK-996.png     [1.0, 1.0, 1.0, 1.0, 1.0, 1.0, 0.5277777777777...   \n",
              "Thai_char_sqr/34/33-194-C2-YO YAK-991.png     [1.0, 1.0, 1.0, 1.0, 1.0, 1.0, 1.0, 0.58333333...   \n",
              "...                                                                                         ...   \n",
              "Thai_char_sqr/15/14-175-AF-TO PATAK-1083.png  [1.0, 1.0, 1.0, 1.0, 1.0, 1.0, 1.0, 1.0, 0.055...   \n",
              "Thai_char_sqr/15/14-175-AF-TO PATAK-1062.png  [1.0, 1.0, 1.0, 1.0, 1.0, 1.0, 1.0, 0.83333333...   \n",
              "Thai_char_sqr/15/14-175-AF-TO PATAK-360.png   [1.0, 1.0, 1.0, 1.0, 1.0, 1.0, 1.0, 1.0, 0.083...   \n",
              "Thai_char_sqr/15/14-175-AF-TO PATAK-532.png   [1.0, 1.0, 1.0, 1.0, 1.0, 0.027777777777777776...   \n",
              "Thai_char_sqr/15/14-175-AF-TO PATAK-1203.png  [1.0, 0.1111111111111111, 0.08333333333333333,...   \n",
              "Thai_char_sqr/15/14-175-AF-TO PATAK-605.png   [1.0, 1.0, 1.0, 1.0, 1.0, 0.05555555555555555,...   \n",
              "Thai_char_sqr/15/14-175-AF-TO PATAK-867.png   [1.0, 1.0, 1.0, 1.0, 0.08333333333333333, 0.02...   \n",
              "Thai_char_sqr/15/14-175-AF-TO PATAK-1489.png  [1.0, 1.0, 1.0, 0.027777777777777776, 0.027777...   \n",
              "Thai_char_sqr/15/14-175-AF-TO PATAK-1173.png  [1.0, 1.0, 1.0, 1.0, 0.1111111111111111, 0.111...   \n",
              "Thai_char_sqr/15/14-175-AF-TO PATAK-194.png   [1.0, 1.0, 1.0, 1.0, 1.0, 1.0, 1.0, 1.0, 0.055...   \n",
              "Thai_char_sqr/15/14-175-AF-TO PATAK-38.png    [1.0, 1.0, 1.0, 1.0, 1.0, 1.0, 1.0, 1.0, 1.0, ...   \n",
              "Thai_char_sqr/15/14-175-AF-TO PATAK-1239.png  [1.0, 1.0, 1.0, 0.027777777777777776, 0.0, 0.0...   \n",
              "Thai_char_sqr/15/14-175-AF-TO PATAK-372.png   [1.0, 1.0, 1.0, 1.0, 1.0, 1.0, 1.0, 1.0, 1.0, ...   \n",
              "Thai_char_sqr/15/14-175-AF-TO PATAK-330.png   [1.0, 1.0, 1.0, 1.0, 1.0, 1.0, 1.0, 1.0, 1.0, ...   \n",
              "Thai_char_sqr/15/14-175-AF-TO PATAK-1331.png  [1.0, 1.0, 0.05555555555555555, 0.027777777777...   \n",
              "Thai_char_sqr/15/14-175-AF-TO PATAK-1345.png  [1.0, 1.0, 1.0, 1.0, 1.0, 1.0, 0.0, 0.0, 0.0, ...   \n",
              "Thai_char_sqr/15/14-175-AF-TO PATAK-815.png   [1.0, 1.0, 1.0, 1.0, 1.0, 1.0, 1.0, 0.13888888...   \n",
              "Thai_char_sqr/15/14-175-AF-TO PATAK-1115.png  [1.0, 1.0, 1.0, 1.0, 1.0, 1.0, 1.0, 1.0, 1.0, ...   \n",
              "Thai_char_sqr/15/14-175-AF-TO PATAK-1163.png  [1.0, 1.0, 1.0, 1.0, 1.0, 1.0, 1.0, 0.13888888...   \n",
              "Thai_char_sqr/15/14-175-AF-TO PATAK-980.png   [1.0, 1.0, 1.0, 1.0, 1.0, 1.0, 0.75, 0.7222222...   \n",
              "Thai_char_sqr/15/14-175-AF-TO PATAK-1211.png  [1.0, 1.0, 1.0, 1.0, 1.0, 1.0, 1.0, 1.0, 0.138...   \n",
              "Thai_char_sqr/15/14-175-AF-TO PATAK-683.png   [1.0, 1.0, 1.0, 1.0, 0.05555555555555555, 0.02...   \n",
              "Thai_char_sqr/15/14-175-AF-TO PATAK-661.png   [1.0, 1.0, 1.0, 0.05555555555555555, 0.0555555...   \n",
              "Thai_char_sqr/15/14-175-AF-TO PATAK-1333.png  [1.0, 1.0, 0.027777777777777776, 0.0, 0.0, 0.0...   \n",
              "Thai_char_sqr/15/14-175-AF-TO PATAK-1587.png  [1.0, 1.0, 1.0, 0.027777777777777776, 0.0, 0.0...   \n",
              "Thai_char_sqr/15/14-175-AF-TO PATAK-97.png    [1.0, 1.0, 1.0, 1.0, 1.0, 1.0, 1.0, 1.0, 0.694...   \n",
              "Thai_char_sqr/15/14-175-AF-TO PATAK-963.png   [1.0, 1.0, 1.0, 1.0, 1.0, 0.7777777777777778, ...   \n",
              "Thai_char_sqr/15/14-175-AF-TO PATAK-1553.png  [1.0, 1.0, 1.0, 1.0, 1.0, 0.027777777777777776...   \n",
              "Thai_char_sqr/15/14-175-AF-TO PATAK-1423.png  [1.0, 0.05555555555555555, 0.02777777777777777...   \n",
              "Thai_char_sqr/15/14-175-AF-TO PATAK-1272.png  [1.0, 1.0, 1.0, 1.0, 0.027777777777777776, 0.0...   \n",
              "\n",
              "                                                                                          nbits  \\\n",
              "Thai_char_sqr/34/33-194-C2-YO YAK-1136.png    [0.0, 0.0, 0.0, 0.0, 0.0, 0.0, 0.0, 0.0, 0.0, ...   \n",
              "Thai_char_sqr/34/33-194-C2-YO YAK-544.png     [0.0, 0.0, 0.0, 0.125, 0.125, 0.125, 0.125, 0....   \n",
              "Thai_char_sqr/34/33-194-C2-YO YAK-1233.png    [0.0, 0.0, 0.0, 0.0, 0.125, 0.125, 0.25, 0.25,...   \n",
              "Thai_char_sqr/34/33-194-C2-YO YAK-346.png     [0.0, 0.0, 0.0, 0.0, 0.0, 0.0, 0.0, 0.125, 0.1...   \n",
              "Thai_char_sqr/34/33-194-C2-YO YAK-1052.png    [0.0, 0.0, 0.0, 0.0, 0.125, 0.125, 0.125, 0.12...   \n",
              "Thai_char_sqr/34/33-194-C2-YO YAK-71.png      [0.0, 0.125, 0.125, 0.125, 0.125, 0.125, 0.125...   \n",
              "Thai_char_sqr/34/33-194-C2-YO YAK-794.png     [0.0, 0.0, 0.0, 0.0, 0.0, 0.0, 0.125, 0.125, 0...   \n",
              "Thai_char_sqr/34/33-194-C2-YO YAK-604.png     [0.0, 0.0, 0.0, 0.0, 0.0, 0.0, 0.0, 0.125, 0.1...   \n",
              "Thai_char_sqr/34/33-194-C2-YO YAK-1248.png    [0.0, 0.0, 0.0, 0.0, 0.0, 0.125, 0.125, 0.25, ...   \n",
              "Thai_char_sqr/34/33-194-C2-YO YAK-1275.png    [0.0, 0.0, 0.125, 0.125, 0.125, 0.125, 0.25, 0...   \n",
              "Thai_char_sqr/34/33-194-C2-YO YAK-1353.png    [0.0, 0.0, 0.0, 0.125, 0.25, 0.25, 0.25, 0.25,...   \n",
              "Thai_char_sqr/34/33-194-C2-YO YAK-730.png     [0.0, 0.0, 0.0, 0.0, 0.125, 0.25, 0.125, 0.125...   \n",
              "Thai_char_sqr/34/33-194-C2-YO YAK-1251.png    [0.0, 0.0, 0.0, 0.125, 0.125, 0.25, 0.25, 0.25...   \n",
              "Thai_char_sqr/34/33-194-C2-YO YAK-310.png     [0.0, 0.0, 0.0, 0.0, 0.0, 0.0, 0.0, 0.125, 0.1...   \n",
              "Thai_char_sqr/34/33-194-C2-YO YAK-687.png     [0.0, 0.0, 0.125, 0.125, 0.125, 0.125, 0.125, ...   \n",
              "Thai_char_sqr/34/33-194-C2-YO YAK-1659.png    [0.0, 0.0, 0.0, 0.125, 0.125, 0.125, 0.125, 0....   \n",
              "Thai_char_sqr/34/33-194-C2-YO YAK-1252.png    [0.0, 0.0, 0.0, 0.0, 0.0, 0.0, 0.125, 0.125, 0...   \n",
              "Thai_char_sqr/34/33-194-C2-YO YAK-793.png     [0.0, 0.0, 0.0, 0.0, 0.0, 0.125, 0.25, 0.125, ...   \n",
              "Thai_char_sqr/34/33-194-C2-YO YAK-1116.png    [0.0, 0.0, 0.0, 0.0, 0.0, 0.0, 0.125, 0.125, 0...   \n",
              "Thai_char_sqr/34/33-194-C2-YO YAK-330.png     [0.0, 0.0, 0.0, 0.0, 0.0, 0.0, 0.0, 0.125, 0.1...   \n",
              "Thai_char_sqr/34/33-194-C2-YO YAK-251.png     [0.0, 0.0, 0.0, 0.0, 0.0, 0.0, 0.0, 0.125, 0.1...   \n",
              "Thai_char_sqr/34/33-194-C2-YO YAK-1079.png    [0.0, 0.0, 0.0, 0.0, 0.0, 0.0, 0.0, 0.0, 0.0, ...   \n",
              "Thai_char_sqr/34/33-194-C2-YO YAK-1123.png    [0.0, 0.0, 0.0, 0.0, 0.0, 0.0, 0.25, 0.125, 0....   \n",
              "Thai_char_sqr/34/33-194-C2-YO YAK-840.png     [0.0, 0.0, 0.0, 0.0, 0.0, 0.0, 0.125, 0.125, 0...   \n",
              "Thai_char_sqr/34/33-194-C2-YO YAK-220.png     [0.0, 0.0, 0.0, 0.0, 0.0, 0.0, 0.0, 0.125, 0.1...   \n",
              "Thai_char_sqr/34/33-194-C2-YO YAK-726.png     [0.0, 0.0, 0.0, 0.125, 0.25, 0.125, 0.125, 0.1...   \n",
              "Thai_char_sqr/34/33-194-C2-YO YAK-618.png     [0.0, 0.125, 0.25, 0.125, 0.125, 0.125, 0.25, ...   \n",
              "Thai_char_sqr/34/33-194-C2-YO YAK-1219.png    [0.0, 0.0, 0.0, 0.0, 0.0, 0.0, 0.0, 0.25, 0.25...   \n",
              "Thai_char_sqr/34/33-194-C2-YO YAK-996.png     [0.0, 0.0, 0.0, 0.0, 0.0, 0.0, 0.125, 0.125, 0...   \n",
              "Thai_char_sqr/34/33-194-C2-YO YAK-991.png     [0.0, 0.0, 0.0, 0.0, 0.0, 0.0, 0.0, 0.125, 0.1...   \n",
              "...                                                                                         ...   \n",
              "Thai_char_sqr/15/14-175-AF-TO PATAK-1083.png  [0.0, 0.0, 0.0, 0.0, 0.0, 0.0, 0.0, 0.0, 0.125...   \n",
              "Thai_char_sqr/15/14-175-AF-TO PATAK-1062.png  [0.0, 0.0, 0.0, 0.0, 0.0, 0.0, 0.0, 0.125, 0.1...   \n",
              "Thai_char_sqr/15/14-175-AF-TO PATAK-360.png   [0.0, 0.0, 0.0, 0.0, 0.0, 0.0, 0.0, 0.0, 0.125...   \n",
              "Thai_char_sqr/15/14-175-AF-TO PATAK-532.png   [0.0, 0.0, 0.0, 0.0, 0.0, 0.125, 0.125, 0.25, ...   \n",
              "Thai_char_sqr/15/14-175-AF-TO PATAK-1203.png  [0.0, 0.125, 0.125, 0.125, 0.125, 0.125, 0.125...   \n",
              "Thai_char_sqr/15/14-175-AF-TO PATAK-605.png   [0.0, 0.0, 0.0, 0.0, 0.0, 0.125, 0.125, 0.125,...   \n",
              "Thai_char_sqr/15/14-175-AF-TO PATAK-867.png   [0.0, 0.0, 0.0, 0.0, 0.125, 0.125, 0.25, 0.25,...   \n",
              "Thai_char_sqr/15/14-175-AF-TO PATAK-1489.png  [0.0, 0.0, 0.0, 0.125, 0.125, 0.125, 0.125, 0....   \n",
              "Thai_char_sqr/15/14-175-AF-TO PATAK-1173.png  [0.0, 0.0, 0.0, 0.0, 0.125, 0.125, 0.125, 0.12...   \n",
              "Thai_char_sqr/15/14-175-AF-TO PATAK-194.png   [0.0, 0.0, 0.0, 0.0, 0.0, 0.0, 0.0, 0.0, 0.125...   \n",
              "Thai_char_sqr/15/14-175-AF-TO PATAK-38.png    [0.0, 0.0, 0.0, 0.0, 0.0, 0.0, 0.0, 0.0, 0.0, ...   \n",
              "Thai_char_sqr/15/14-175-AF-TO PATAK-1239.png  [0.0, 0.0, 0.0, 0.125, 0.125, 0.25, 0.25, 0.25...   \n",
              "Thai_char_sqr/15/14-175-AF-TO PATAK-372.png   [0.0, 0.0, 0.0, 0.0, 0.0, 0.0, 0.0, 0.0, 0.0, ...   \n",
              "Thai_char_sqr/15/14-175-AF-TO PATAK-330.png   [0.0, 0.0, 0.0, 0.0, 0.0, 0.0, 0.0, 0.0, 0.0, ...   \n",
              "Thai_char_sqr/15/14-175-AF-TO PATAK-1331.png  [0.0, 0.0, 0.125, 0.125, 0.25, 0.25, 0.25, 0.1...   \n",
              "Thai_char_sqr/15/14-175-AF-TO PATAK-1345.png  [0.0, 0.0, 0.0, 0.0, 0.0, 0.0, 0.125, 0.125, 0...   \n",
              "Thai_char_sqr/15/14-175-AF-TO PATAK-815.png   [0.0, 0.0, 0.0, 0.0, 0.0, 0.0, 0.0, 0.25, 0.25...   \n",
              "Thai_char_sqr/15/14-175-AF-TO PATAK-1115.png  [0.0, 0.0, 0.0, 0.0, 0.0, 0.0, 0.0, 0.0, 0.0, ...   \n",
              "Thai_char_sqr/15/14-175-AF-TO PATAK-1163.png  [0.0, 0.0, 0.0, 0.0, 0.0, 0.0, 0.0, 0.125, 0.1...   \n",
              "Thai_char_sqr/15/14-175-AF-TO PATAK-980.png   [0.0, 0.0, 0.0, 0.0, 0.0, 0.0, 0.125, 0.125, 0...   \n",
              "Thai_char_sqr/15/14-175-AF-TO PATAK-1211.png  [0.0, 0.0, 0.0, 0.0, 0.0, 0.0, 0.0, 0.0, 0.125...   \n",
              "Thai_char_sqr/15/14-175-AF-TO PATAK-683.png   [0.0, 0.0, 0.0, 0.0, 0.125, 0.125, 0.25, 0.25,...   \n",
              "Thai_char_sqr/15/14-175-AF-TO PATAK-661.png   [0.0, 0.0, 0.0, 0.125, 0.125, 0.125, 0.125, 0....   \n",
              "Thai_char_sqr/15/14-175-AF-TO PATAK-1333.png  [0.0, 0.0, 0.125, 0.125, 0.25, 0.375, 0.375, 0...   \n",
              "Thai_char_sqr/15/14-175-AF-TO PATAK-1587.png  [0.0, 0.0, 0.0, 0.125, 0.125, 0.125, 0.125, 0....   \n",
              "Thai_char_sqr/15/14-175-AF-TO PATAK-97.png    [0.0, 0.0, 0.0, 0.0, 0.0, 0.0, 0.0, 0.0, 0.125...   \n",
              "Thai_char_sqr/15/14-175-AF-TO PATAK-963.png   [0.0, 0.0, 0.0, 0.0, 0.0, 0.125, 0.25, 0.25, 0...   \n",
              "Thai_char_sqr/15/14-175-AF-TO PATAK-1553.png  [0.0, 0.0, 0.0, 0.0, 0.0, 0.125, 0.125, 0.25, ...   \n",
              "Thai_char_sqr/15/14-175-AF-TO PATAK-1423.png  [0.0, 0.125, 0.125, 0.125, 0.25, 0.25, 0.25, 0...   \n",
              "Thai_char_sqr/15/14-175-AF-TO PATAK-1272.png  [0.0, 0.0, 0.0, 0.0, 0.25, 0.25, 0.5, 0.5, 0.5...   \n",
              "\n",
              "                                                                                     projection  \\\n",
              "Thai_char_sqr/34/33-194-C2-YO YAK-1136.png    [0.0, 0.0, 0.0, 0.0, 0.0, 0.0, 0.0, 0.00032679...   \n",
              "Thai_char_sqr/34/33-194-C2-YO YAK-544.png     [0.0, 0.00043572984749455336, 0.03616557734204...   \n",
              "Thai_char_sqr/34/33-194-C2-YO YAK-1233.png    [0.0, 0.0, 0.0, 0.00010893246187363834, 0.1042...   \n",
              "Thai_char_sqr/34/33-194-C2-YO YAK-346.png     [0.0, 0.0, 0.0, 0.0, 0.0, 0.0, 0.0002178649237...   \n",
              "Thai_char_sqr/34/33-194-C2-YO YAK-1052.png    [0.0, 0.0, 0.00010893246187363834, 0.021459694...   \n",
              "Thai_char_sqr/34/33-194-C2-YO YAK-71.png      [0.00021786492374727668, 0.09183006535947713, ...   \n",
              "Thai_char_sqr/34/33-194-C2-YO YAK-794.png     [0.0, 0.0, 0.0, 0.0, 0.0, 0.000435729847494553...   \n",
              "Thai_char_sqr/34/33-194-C2-YO YAK-604.png     [0.0, 0.0, 0.0, 0.0, 0.0, 0.0, 0.0128540305010...   \n",
              "Thai_char_sqr/34/33-194-C2-YO YAK-1248.png    [0.0, 0.0, 0.0, 0.0, 0.00010893246187363834, 0...   \n",
              "Thai_char_sqr/34/33-194-C2-YO YAK-1275.png    [0.0, 0.0, 0.03932461873638344, 0.077777777777...   \n",
              "Thai_char_sqr/34/33-194-C2-YO YAK-1353.png    [0.0, 0.0, 0.0, 0.11579520697167756, 0.1521786...   \n",
              "Thai_char_sqr/34/33-194-C2-YO YAK-730.png     [0.0, 0.0, 0.00021786492374727668, 0.000871459...   \n",
              "Thai_char_sqr/34/33-194-C2-YO YAK-1251.png    [0.0, 0.0, 0.00021786492374727668, 0.075054466...   \n",
              "Thai_char_sqr/34/33-194-C2-YO YAK-310.png     [0.0, 0.0, 0.0, 0.0, 0.0, 0.0, 0.0324618736383...   \n",
              "Thai_char_sqr/34/33-194-C2-YO YAK-687.png     [0.00043572984749455336, 0.026143790849673203,...   \n",
              "Thai_char_sqr/34/33-194-C2-YO YAK-1659.png    [0.0, 0.00043572984749455336, 0.00392156862745...   \n",
              "Thai_char_sqr/34/33-194-C2-YO YAK-1252.png    [0.0, 0.0, 0.0, 0.0, 0.0, 0.000544662309368191...   \n",
              "Thai_char_sqr/34/33-194-C2-YO YAK-793.png     [0.0, 0.0, 0.0, 0.0, 0.000326797385620915, 0.0...   \n",
              "Thai_char_sqr/34/33-194-C2-YO YAK-1116.png    [0.0, 0.0, 0.0, 0.0, 0.0, 0.00065359477124183,...   \n",
              "Thai_char_sqr/34/33-194-C2-YO YAK-330.png     [0.0, 0.0, 0.0, 0.0, 0.0, 0.0, 0.0, 0.22570806...   \n",
              "Thai_char_sqr/34/33-194-C2-YO YAK-251.png     [0.0, 0.0, 0.0, 0.0, 0.0, 0.0, 0.0567538126361...   \n",
              "Thai_char_sqr/34/33-194-C2-YO YAK-1079.png    [0.0, 0.0, 0.0, 0.0, 0.0, 0.0, 0.0, 0.0, 0.0, ...   \n",
              "Thai_char_sqr/34/33-194-C2-YO YAK-1123.png    [0.0, 0.0, 0.0, 0.0, 0.0, 0.000544662309368191...   \n",
              "Thai_char_sqr/34/33-194-C2-YO YAK-840.png     [0.0, 0.0, 0.0, 0.0, 0.0, 0.09586056644880174,...   \n",
              "Thai_char_sqr/34/33-194-C2-YO YAK-220.png     [0.0, 0.0, 0.0, 0.0, 0.0, 0.0, 0.0138344226579...   \n",
              "Thai_char_sqr/34/33-194-C2-YO YAK-726.png     [0.0, 0.00043572984749455336, 0.01481481481481...   \n",
              "Thai_char_sqr/34/33-194-C2-YO YAK-618.png     [0.0008714596949891067, 0.13736383442265795, 0...   \n",
              "Thai_char_sqr/34/33-194-C2-YO YAK-1219.png    [0.0, 0.0, 0.0, 0.0, 0.0, 0.0, 0.0, 0.12178649...   \n",
              "Thai_char_sqr/34/33-194-C2-YO YAK-996.png     [0.0, 0.0, 0.0, 0.0, 0.0, 0.000217864923747276...   \n",
              "Thai_char_sqr/34/33-194-C2-YO YAK-991.png     [0.0, 0.0, 0.0, 0.0, 0.0, 0.000108932461873638...   \n",
              "...                                                                                         ...   \n",
              "Thai_char_sqr/15/14-175-AF-TO PATAK-1083.png  [0.0, 0.0, 0.0, 0.0, 0.0, 0.0, 0.0, 0.00032679...   \n",
              "Thai_char_sqr/15/14-175-AF-TO PATAK-1062.png  [0.0, 0.0, 0.0, 0.0, 0.0, 0.0, 0.0, 0.03932461...   \n",
              "Thai_char_sqr/15/14-175-AF-TO PATAK-360.png   [0.0, 0.0, 0.0, 0.0, 0.0, 0.0, 0.0, 0.00795206...   \n",
              "Thai_char_sqr/15/14-175-AF-TO PATAK-532.png   [0.0, 0.0, 0.0, 0.0, 0.00010893246187363834, 0...   \n",
              "Thai_char_sqr/15/14-175-AF-TO PATAK-1203.png  [0.00010893246187363834, 0.03289760348583878, ...   \n",
              "Thai_char_sqr/15/14-175-AF-TO PATAK-605.png   [0.0, 0.0, 0.0, 0.0, 0.00021786492374727668, 0...   \n",
              "Thai_char_sqr/15/14-175-AF-TO PATAK-867.png   [0.0, 0.0, 0.0, 0.0, 0.13562091503267973, 0.22...   \n",
              "Thai_char_sqr/15/14-175-AF-TO PATAK-1489.png  [0.0, 0.0, 0.0, 0.05065359477124183, 0.1011982...   \n",
              "Thai_char_sqr/15/14-175-AF-TO PATAK-1173.png  [0.0, 0.0, 0.0, 0.009694989106753813, 0.074074...   \n",
              "Thai_char_sqr/15/14-175-AF-TO PATAK-194.png   [0.0, 0.0, 0.0, 0.0, 0.0, 0.0, 0.0, 0.00381263...   \n",
              "Thai_char_sqr/15/14-175-AF-TO PATAK-38.png    [0.0, 0.0, 0.0, 0.0, 0.0, 0.0, 0.0, 0.0, 0.0, ...   \n",
              "Thai_char_sqr/15/14-175-AF-TO PATAK-1239.png  [0.0, 0.0, 0.000326797385620915, 0.09586056644...   \n",
              "Thai_char_sqr/15/14-175-AF-TO PATAK-372.png   [0.0, 0.0, 0.0, 0.0, 0.0, 0.0, 0.0, 0.0, 0.025...   \n",
              "Thai_char_sqr/15/14-175-AF-TO PATAK-330.png   [0.0, 0.0, 0.0, 0.0, 0.0, 0.0, 0.0, 0.0, 0.047...   \n",
              "Thai_char_sqr/15/14-175-AF-TO PATAK-1331.png  [0.0, 0.000326797385620915, 0.0701525054466230...   \n",
              "Thai_char_sqr/15/14-175-AF-TO PATAK-1345.png  [0.0, 0.0, 0.0, 0.0, 0.0, 0.000544662309368191...   \n",
              "Thai_char_sqr/15/14-175-AF-TO PATAK-815.png   [0.0, 0.0, 0.0, 0.0, 0.0, 0.0, 0.0003267973856...   \n",
              "Thai_char_sqr/15/14-175-AF-TO PATAK-1115.png  [0.0, 0.0, 0.0, 0.0, 0.0, 0.0, 0.0, 0.0, 0.0, ...   \n",
              "Thai_char_sqr/15/14-175-AF-TO PATAK-1163.png  [0.0, 0.0, 0.0, 0.0, 0.0, 0.0, 0.0, 0.04880174...   \n",
              "Thai_char_sqr/15/14-175-AF-TO PATAK-980.png   [0.0, 0.0, 0.0, 0.0, 0.00010893246187363834, 0...   \n",
              "Thai_char_sqr/15/14-175-AF-TO PATAK-1211.png  [0.0, 0.0, 0.0, 0.0, 0.0, 0.0, 0.0, 0.00032679...   \n",
              "Thai_char_sqr/15/14-175-AF-TO PATAK-683.png   [0.0, 0.0, 0.00010893246187363834, 0.030501089...   \n",
              "Thai_char_sqr/15/14-175-AF-TO PATAK-661.png   [0.0, 0.0, 0.021350762527233117, 0.08714596949...   \n",
              "Thai_char_sqr/15/14-175-AF-TO PATAK-1333.png  [0.0, 0.00021786492374727668, 0.08191721132897...   \n",
              "Thai_char_sqr/15/14-175-AF-TO PATAK-1587.png  [0.0, 0.0, 0.0, 0.03159041394335512, 0.1083877...   \n",
              "Thai_char_sqr/15/14-175-AF-TO PATAK-97.png    [0.0, 0.0, 0.0, 0.0, 0.0, 0.0, 0.0, 0.00043572...   \n",
              "Thai_char_sqr/15/14-175-AF-TO PATAK-963.png   [0.0, 0.0, 0.0, 0.0, 0.00021786492374727668, 0...   \n",
              "Thai_char_sqr/15/14-175-AF-TO PATAK-1553.png  [0.0, 0.0, 0.0, 0.0, 0.00021786492374727668, 0...   \n",
              "Thai_char_sqr/15/14-175-AF-TO PATAK-1423.png  [0.0, 0.03965141612200436, 0.12407407407407407...   \n",
              "Thai_char_sqr/15/14-175-AF-TO PATAK-1272.png  [0.0, 0.0, 0.0, 0.00021786492374727668, 0.0860...   \n",
              "\n",
              "                                             target_name  \\\n",
              "Thai_char_sqr/34/33-194-C2-YO YAK-1136.png        YO YAK   \n",
              "Thai_char_sqr/34/33-194-C2-YO YAK-544.png         YO YAK   \n",
              "Thai_char_sqr/34/33-194-C2-YO YAK-1233.png        YO YAK   \n",
              "Thai_char_sqr/34/33-194-C2-YO YAK-346.png         YO YAK   \n",
              "Thai_char_sqr/34/33-194-C2-YO YAK-1052.png        YO YAK   \n",
              "Thai_char_sqr/34/33-194-C2-YO YAK-71.png          YO YAK   \n",
              "Thai_char_sqr/34/33-194-C2-YO YAK-794.png         YO YAK   \n",
              "Thai_char_sqr/34/33-194-C2-YO YAK-604.png         YO YAK   \n",
              "Thai_char_sqr/34/33-194-C2-YO YAK-1248.png        YO YAK   \n",
              "Thai_char_sqr/34/33-194-C2-YO YAK-1275.png        YO YAK   \n",
              "Thai_char_sqr/34/33-194-C2-YO YAK-1353.png        YO YAK   \n",
              "Thai_char_sqr/34/33-194-C2-YO YAK-730.png         YO YAK   \n",
              "Thai_char_sqr/34/33-194-C2-YO YAK-1251.png        YO YAK   \n",
              "Thai_char_sqr/34/33-194-C2-YO YAK-310.png         YO YAK   \n",
              "Thai_char_sqr/34/33-194-C2-YO YAK-687.png         YO YAK   \n",
              "Thai_char_sqr/34/33-194-C2-YO YAK-1659.png        YO YAK   \n",
              "Thai_char_sqr/34/33-194-C2-YO YAK-1252.png        YO YAK   \n",
              "Thai_char_sqr/34/33-194-C2-YO YAK-793.png         YO YAK   \n",
              "Thai_char_sqr/34/33-194-C2-YO YAK-1116.png        YO YAK   \n",
              "Thai_char_sqr/34/33-194-C2-YO YAK-330.png         YO YAK   \n",
              "Thai_char_sqr/34/33-194-C2-YO YAK-251.png         YO YAK   \n",
              "Thai_char_sqr/34/33-194-C2-YO YAK-1079.png        YO YAK   \n",
              "Thai_char_sqr/34/33-194-C2-YO YAK-1123.png        YO YAK   \n",
              "Thai_char_sqr/34/33-194-C2-YO YAK-840.png         YO YAK   \n",
              "Thai_char_sqr/34/33-194-C2-YO YAK-220.png         YO YAK   \n",
              "Thai_char_sqr/34/33-194-C2-YO YAK-726.png         YO YAK   \n",
              "Thai_char_sqr/34/33-194-C2-YO YAK-618.png         YO YAK   \n",
              "Thai_char_sqr/34/33-194-C2-YO YAK-1219.png        YO YAK   \n",
              "Thai_char_sqr/34/33-194-C2-YO YAK-996.png         YO YAK   \n",
              "Thai_char_sqr/34/33-194-C2-YO YAK-991.png         YO YAK   \n",
              "...                                                  ...   \n",
              "Thai_char_sqr/15/14-175-AF-TO PATAK-1083.png    TO PATAK   \n",
              "Thai_char_sqr/15/14-175-AF-TO PATAK-1062.png    TO PATAK   \n",
              "Thai_char_sqr/15/14-175-AF-TO PATAK-360.png     TO PATAK   \n",
              "Thai_char_sqr/15/14-175-AF-TO PATAK-532.png     TO PATAK   \n",
              "Thai_char_sqr/15/14-175-AF-TO PATAK-1203.png    TO PATAK   \n",
              "Thai_char_sqr/15/14-175-AF-TO PATAK-605.png     TO PATAK   \n",
              "Thai_char_sqr/15/14-175-AF-TO PATAK-867.png     TO PATAK   \n",
              "Thai_char_sqr/15/14-175-AF-TO PATAK-1489.png    TO PATAK   \n",
              "Thai_char_sqr/15/14-175-AF-TO PATAK-1173.png    TO PATAK   \n",
              "Thai_char_sqr/15/14-175-AF-TO PATAK-194.png     TO PATAK   \n",
              "Thai_char_sqr/15/14-175-AF-TO PATAK-38.png      TO PATAK   \n",
              "Thai_char_sqr/15/14-175-AF-TO PATAK-1239.png    TO PATAK   \n",
              "Thai_char_sqr/15/14-175-AF-TO PATAK-372.png     TO PATAK   \n",
              "Thai_char_sqr/15/14-175-AF-TO PATAK-330.png     TO PATAK   \n",
              "Thai_char_sqr/15/14-175-AF-TO PATAK-1331.png    TO PATAK   \n",
              "Thai_char_sqr/15/14-175-AF-TO PATAK-1345.png    TO PATAK   \n",
              "Thai_char_sqr/15/14-175-AF-TO PATAK-815.png     TO PATAK   \n",
              "Thai_char_sqr/15/14-175-AF-TO PATAK-1115.png    TO PATAK   \n",
              "Thai_char_sqr/15/14-175-AF-TO PATAK-1163.png    TO PATAK   \n",
              "Thai_char_sqr/15/14-175-AF-TO PATAK-980.png     TO PATAK   \n",
              "Thai_char_sqr/15/14-175-AF-TO PATAK-1211.png    TO PATAK   \n",
              "Thai_char_sqr/15/14-175-AF-TO PATAK-683.png     TO PATAK   \n",
              "Thai_char_sqr/15/14-175-AF-TO PATAK-661.png     TO PATAK   \n",
              "Thai_char_sqr/15/14-175-AF-TO PATAK-1333.png    TO PATAK   \n",
              "Thai_char_sqr/15/14-175-AF-TO PATAK-1587.png    TO PATAK   \n",
              "Thai_char_sqr/15/14-175-AF-TO PATAK-97.png      TO PATAK   \n",
              "Thai_char_sqr/15/14-175-AF-TO PATAK-963.png     TO PATAK   \n",
              "Thai_char_sqr/15/14-175-AF-TO PATAK-1553.png    TO PATAK   \n",
              "Thai_char_sqr/15/14-175-AF-TO PATAK-1423.png    TO PATAK   \n",
              "Thai_char_sqr/15/14-175-AF-TO PATAK-1272.png    TO PATAK   \n",
              "\n",
              "                                                                                          upper  \n",
              "Thai_char_sqr/34/33-194-C2-YO YAK-1136.png    [1.0, 1.0, 1.0, 1.0, 1.0, 1.0, 1.0, 1.0, 1.0, ...  \n",
              "Thai_char_sqr/34/33-194-C2-YO YAK-544.png     [1.0, 1.0, 1.0, 0.4166666666666667, 0.30555555...  \n",
              "Thai_char_sqr/34/33-194-C2-YO YAK-1233.png    [1.0, 1.0, 1.0, 1.0, 0.3333333333333333, 0.25,...  \n",
              "Thai_char_sqr/34/33-194-C2-YO YAK-346.png     [1.0, 1.0, 1.0, 1.0, 1.0, 1.0, 1.0, 0.25, 0.16...  \n",
              "Thai_char_sqr/34/33-194-C2-YO YAK-1052.png    [1.0, 1.0, 1.0, 1.0, 0.25, 0.1388888888888889,...  \n",
              "Thai_char_sqr/34/33-194-C2-YO YAK-71.png      [1.0, 0.3055555555555556, 0.2777777777777778, ...  \n",
              "Thai_char_sqr/34/33-194-C2-YO YAK-794.png     [1.0, 1.0, 1.0, 1.0, 1.0, 1.0, 0.2777777777777...  \n",
              "Thai_char_sqr/34/33-194-C2-YO YAK-604.png     [1.0, 1.0, 1.0, 1.0, 1.0, 1.0, 1.0, 0.38888888...  \n",
              "Thai_char_sqr/34/33-194-C2-YO YAK-1248.png    [1.0, 1.0, 1.0, 1.0, 1.0, 0.2222222222222222, ...  \n",
              "Thai_char_sqr/34/33-194-C2-YO YAK-1275.png    [1.0, 1.0, 0.16666666666666666, 0.166666666666...  \n",
              "Thai_char_sqr/34/33-194-C2-YO YAK-1353.png    [1.0, 1.0, 1.0, 0.3333333333333333, 0.25, 0.22...  \n",
              "Thai_char_sqr/34/33-194-C2-YO YAK-730.png     [1.0, 1.0, 1.0, 1.0, 0.2222222222222222, 0.222...  \n",
              "Thai_char_sqr/34/33-194-C2-YO YAK-1251.png    [1.0, 1.0, 1.0, 0.3333333333333333, 0.25, 0.22...  \n",
              "Thai_char_sqr/34/33-194-C2-YO YAK-310.png     [1.0, 1.0, 1.0, 1.0, 1.0, 1.0, 1.0, 0.19444444...  \n",
              "Thai_char_sqr/34/33-194-C2-YO YAK-687.png     [1.0, 1.0, 0.25, 0.2222222222222222, 0.1944444...  \n",
              "Thai_char_sqr/34/33-194-C2-YO YAK-1659.png    [1.0, 1.0, 1.0, 0.4166666666666667, 0.38888888...  \n",
              "Thai_char_sqr/34/33-194-C2-YO YAK-1252.png    [1.0, 1.0, 1.0, 1.0, 1.0, 1.0, 0.3333333333333...  \n",
              "Thai_char_sqr/34/33-194-C2-YO YAK-793.png     [1.0, 1.0, 1.0, 1.0, 1.0, 0.3333333333333333, ...  \n",
              "Thai_char_sqr/34/33-194-C2-YO YAK-1116.png    [1.0, 1.0, 1.0, 1.0, 1.0, 1.0, 0.1666666666666...  \n",
              "Thai_char_sqr/34/33-194-C2-YO YAK-330.png     [1.0, 1.0, 1.0, 1.0, 1.0, 1.0, 1.0, 0.16666666...  \n",
              "Thai_char_sqr/34/33-194-C2-YO YAK-251.png     [1.0, 1.0, 1.0, 1.0, 1.0, 1.0, 1.0, 0.13888888...  \n",
              "Thai_char_sqr/34/33-194-C2-YO YAK-1079.png    [1.0, 1.0, 1.0, 1.0, 1.0, 1.0, 1.0, 1.0, 1.0, ...  \n",
              "Thai_char_sqr/34/33-194-C2-YO YAK-1123.png    [1.0, 1.0, 1.0, 1.0, 1.0, 1.0, 0.1944444444444...  \n",
              "Thai_char_sqr/34/33-194-C2-YO YAK-840.png     [1.0, 1.0, 1.0, 1.0, 1.0, 1.0, 0.25, 0.1111111...  \n",
              "Thai_char_sqr/34/33-194-C2-YO YAK-220.png     [1.0, 1.0, 1.0, 1.0, 1.0, 1.0, 1.0, 0.16666666...  \n",
              "Thai_char_sqr/34/33-194-C2-YO YAK-726.png     [1.0, 1.0, 1.0, 0.3055555555555556, 0.30555555...  \n",
              "Thai_char_sqr/34/33-194-C2-YO YAK-618.png     [1.0, 0.16666666666666666, 0.1388888888888889,...  \n",
              "Thai_char_sqr/34/33-194-C2-YO YAK-1219.png    [1.0, 1.0, 1.0, 1.0, 1.0, 1.0, 1.0, 0.25, 0.25...  \n",
              "Thai_char_sqr/34/33-194-C2-YO YAK-996.png     [1.0, 1.0, 1.0, 1.0, 1.0, 1.0, 0.25, 0.1388888...  \n",
              "Thai_char_sqr/34/33-194-C2-YO YAK-991.png     [1.0, 1.0, 1.0, 1.0, 1.0, 1.0, 1.0, 0.25, 0.19...  \n",
              "...                                                                                         ...  \n",
              "Thai_char_sqr/15/14-175-AF-TO PATAK-1083.png  [1.0, 1.0, 1.0, 1.0, 1.0, 1.0, 1.0, 1.0, 0.861...  \n",
              "Thai_char_sqr/15/14-175-AF-TO PATAK-1062.png  [1.0, 1.0, 1.0, 1.0, 1.0, 1.0, 1.0, 0.13888888...  \n",
              "Thai_char_sqr/15/14-175-AF-TO PATAK-360.png   [1.0, 1.0, 1.0, 1.0, 1.0, 1.0, 1.0, 1.0, 0.805...  \n",
              "Thai_char_sqr/15/14-175-AF-TO PATAK-532.png   [1.0, 1.0, 1.0, 1.0, 1.0, 0.8888888888888888, ...  \n",
              "Thai_char_sqr/15/14-175-AF-TO PATAK-1203.png  [1.0, 0.8611111111111112, 0.8333333333333334, ...  \n",
              "Thai_char_sqr/15/14-175-AF-TO PATAK-605.png   [1.0, 1.0, 1.0, 1.0, 1.0, 0.9166666666666666, ...  \n",
              "Thai_char_sqr/15/14-175-AF-TO PATAK-867.png   [1.0, 1.0, 1.0, 1.0, 0.8055555555555556, 0.75,...  \n",
              "Thai_char_sqr/15/14-175-AF-TO PATAK-1489.png  [1.0, 1.0, 1.0, 0.9166666666666666, 0.88888888...  \n",
              "Thai_char_sqr/15/14-175-AF-TO PATAK-1173.png  [1.0, 1.0, 1.0, 1.0, 0.8333333333333334, 0.805...  \n",
              "Thai_char_sqr/15/14-175-AF-TO PATAK-194.png   [1.0, 1.0, 1.0, 1.0, 1.0, 1.0, 1.0, 1.0, 0.861...  \n",
              "Thai_char_sqr/15/14-175-AF-TO PATAK-38.png    [1.0, 1.0, 1.0, 1.0, 1.0, 1.0, 1.0, 1.0, 1.0, ...  \n",
              "Thai_char_sqr/15/14-175-AF-TO PATAK-1239.png  [1.0, 1.0, 1.0, 0.8888888888888888, 0.86111111...  \n",
              "Thai_char_sqr/15/14-175-AF-TO PATAK-372.png   [1.0, 1.0, 1.0, 1.0, 1.0, 1.0, 1.0, 1.0, 1.0, ...  \n",
              "Thai_char_sqr/15/14-175-AF-TO PATAK-330.png   [1.0, 1.0, 1.0, 1.0, 1.0, 1.0, 1.0, 1.0, 1.0, ...  \n",
              "Thai_char_sqr/15/14-175-AF-TO PATAK-1331.png  [1.0, 1.0, 0.8888888888888888, 0.8055555555555...  \n",
              "Thai_char_sqr/15/14-175-AF-TO PATAK-1345.png  [1.0, 1.0, 1.0, 1.0, 1.0, 1.0, 0.8888888888888...  \n",
              "Thai_char_sqr/15/14-175-AF-TO PATAK-815.png   [1.0, 1.0, 1.0, 1.0, 1.0, 1.0, 1.0, 0.52777777...  \n",
              "Thai_char_sqr/15/14-175-AF-TO PATAK-1115.png  [1.0, 1.0, 1.0, 1.0, 1.0, 1.0, 1.0, 1.0, 1.0, ...  \n",
              "Thai_char_sqr/15/14-175-AF-TO PATAK-1163.png  [1.0, 1.0, 1.0, 1.0, 1.0, 1.0, 1.0, 0.80555555...  \n",
              "Thai_char_sqr/15/14-175-AF-TO PATAK-980.png   [1.0, 1.0, 1.0, 1.0, 1.0, 1.0, 0.1944444444444...  \n",
              "Thai_char_sqr/15/14-175-AF-TO PATAK-1211.png  [1.0, 1.0, 1.0, 1.0, 1.0, 1.0, 1.0, 1.0, 0.805...  \n",
              "Thai_char_sqr/15/14-175-AF-TO PATAK-683.png   [1.0, 1.0, 1.0, 1.0, 0.8055555555555556, 0.777...  \n",
              "Thai_char_sqr/15/14-175-AF-TO PATAK-661.png   [1.0, 1.0, 1.0, 0.8611111111111112, 0.83333333...  \n",
              "Thai_char_sqr/15/14-175-AF-TO PATAK-1333.png  [1.0, 1.0, 0.8888888888888888, 0.8333333333333...  \n",
              "Thai_char_sqr/15/14-175-AF-TO PATAK-1587.png  [1.0, 1.0, 1.0, 0.9444444444444444, 0.88888888...  \n",
              "Thai_char_sqr/15/14-175-AF-TO PATAK-97.png    [1.0, 1.0, 1.0, 1.0, 1.0, 1.0, 1.0, 1.0, 0.222...  \n",
              "Thai_char_sqr/15/14-175-AF-TO PATAK-963.png   [1.0, 1.0, 1.0, 1.0, 1.0, 0.16666666666666666,...  \n",
              "Thai_char_sqr/15/14-175-AF-TO PATAK-1553.png  [1.0, 1.0, 1.0, 1.0, 1.0, 0.8333333333333334, ...  \n",
              "Thai_char_sqr/15/14-175-AF-TO PATAK-1423.png  [1.0, 0.9166666666666666, 0.8611111111111112, ...  \n",
              "Thai_char_sqr/15/14-175-AF-TO PATAK-1272.png  [1.0, 1.0, 1.0, 1.0, 0.19444444444444445, 0.11...  \n",
              "\n",
              "[14490 rows x 6 columns]"
            ]
          },
          "metadata": {
            "tags": []
          }
        }
      ]
    },
    {
      "metadata": {
        "id": "2STrah4Xah6r",
        "colab_type": "text"
      },
      "cell_type": "markdown",
      "source": [
        "## K-nearest neighbors classifier"
      ]
    },
    {
      "metadata": {
        "id": "GcinysTu9_zF",
        "colab_type": "code",
        "colab": {}
      },
      "cell_type": "code",
      "source": [
        "from sklearn.neighbors import KNeighborsClassifier\n",
        "from sklearn.model_selection import cross_validate, train_test_split\n",
        "\n",
        "def get_classifier(n_neighbors=1, metric='minkowski'):\n",
        "  classifier = KNeighborsClassifier(n_neighbors=n_neighbors, algorithm='ball_tree', metric=metric)\n",
        "  return classifier"
      ],
      "execution_count": 0,
      "outputs": []
    },
    {
      "metadata": {
        "id": "_0awoFxMBZP6",
        "colab_type": "code",
        "outputId": "96eeb46f-e9cc-4b29-b4db-1d44c958577b",
        "colab": {
          "base_uri": "https://localhost:8080/",
          "height": 53
        }
      },
      "cell_type": "code",
      "source": [
        "cols = ['projection', 'upper', 'lower', 'nbits']\n",
        "df_x = np.apply_along_axis(np.hstack, 1, dataset[cols].values)\n",
        "df_y = dataset['label'].values\n",
        "target_names = dataset[['label', 'target_name']].drop_duplicates().sort_values('label')['target_name'].tolist()\n",
        "display(df_x.shape)\n",
        "display(df_y.shape)"
      ],
      "execution_count": 0,
      "outputs": [
        {
          "output_type": "display_data",
          "data": {
            "text/plain": [
              "(14490, 144)"
            ]
          },
          "metadata": {
            "tags": []
          }
        },
        {
          "output_type": "display_data",
          "data": {
            "text/plain": [
              "(14490,)"
            ]
          },
          "metadata": {
            "tags": []
          }
        }
      ]
    },
    {
      "metadata": {
        "id": "CknyeEV-rp9r",
        "colab_type": "code",
        "outputId": "7b10979d-aa73-45cd-b6b3-5316ac4f0277",
        "colab": {
          "base_uri": "https://localhost:8080/",
          "height": 7610
        }
      },
      "cell_type": "code",
      "source": [
        "from sklearn import config_context\n",
        "from sklearn.model_selection import StratifiedKFold\n",
        "from sklearn.metrics import classification_report, confusion_matrix\n",
        "\n",
        "def print_target_names(arr):\n",
        "  print('{}({}), {}({}), {}'.format(target_names[arr[0]], arr[0], target_names[arr[1]], arr[1], arr[2]))\n",
        "\n",
        "with config_context(assume_finite=True):\n",
        "  skf = StratifiedKFold(n_splits=5)\n",
        "  for train, test in skf.split(df_x, df_y):\n",
        "    x_train, x_test = df_x[train], df_x[test]\n",
        "    y_train, y_test = df_y[train], df_y[test]\n",
        "    display(x_train.shape, y_train.shape)\n",
        "    display(x_test.shape, y_test.shape)\n",
        "    kneigh = get_classifier()\n",
        "    kneigh.fit(x_train, y_train)\n",
        "    y_pred = kneigh.predict(x_test)\n",
        "    display(y_test)\n",
        "    display(y_pred)\n",
        "    print(classification_report(y_test, y_pred, labels=range(len(target_names)), target_names=target_names))\n",
        "    wrong_predictions = np.not_equal(y_test, y_pred)\n",
        "    pairs = np.vstack((y_test[wrong_predictions], y_pred[wrong_predictions])).T\n",
        "    unique, count = np.unique(pairs, return_counts=True, axis=0)\n",
        "    ranks = np.argsort(count)[::-1]\n",
        "    wrong_count = np.vstack((unique[ranks].T, count)).T\n",
        "    print('test, pred, count')\n",
        "    np.apply_along_axis(print_target_names, 0, wrong_count[wrong_count[:,2] > 1])\n",
        "#     display(confusion_matrix(y_test, y_pred))"
      ],
      "execution_count": 0,
      "outputs": [
        {
          "output_type": "display_data",
          "data": {
            "text/plain": [
              "(11561, 144)"
            ]
          },
          "metadata": {
            "tags": []
          }
        },
        {
          "output_type": "display_data",
          "data": {
            "text/plain": [
              "(11561,)"
            ]
          },
          "metadata": {
            "tags": []
          }
        },
        {
          "output_type": "display_data",
          "data": {
            "text/plain": [
              "(2929, 144)"
            ]
          },
          "metadata": {
            "tags": []
          }
        },
        {
          "output_type": "display_data",
          "data": {
            "text/plain": [
              "(2929,)"
            ]
          },
          "metadata": {
            "tags": []
          }
        },
        {
          "output_type": "display_data",
          "data": {
            "text/plain": [
              "array([33, 33, 33, ..., 14, 14, 14])"
            ]
          },
          "metadata": {
            "tags": []
          }
        },
        {
          "output_type": "display_data",
          "data": {
            "text/plain": [
              "array([33, 33, 33, ..., 14, 14, 14])"
            ]
          },
          "metadata": {
            "tags": []
          }
        },
        {
          "output_type": "stream",
          "text": [
            "                  precision    recall  f1-score   support\n",
            "\n",
            "          KO KAI       0.82      0.70      0.76        44\n",
            "        KHO KHAI       0.63      0.58      0.60        45\n",
            "       KHO KHUAT       0.75      0.49      0.59        43\n",
            "       KHO KHWAI       0.46      0.55      0.50        42\n",
            "        KHO KHON       0.64      0.60      0.62        42\n",
            "     KHO RAKHANG       0.93      0.88      0.90        42\n",
            "         NGO NGU       0.85      0.91      0.88        44\n",
            "        CHO CHAN       0.83      0.91      0.87        44\n",
            "       CHO CHING       0.88      0.93      0.90        41\n",
            "       CHO CHANG       0.63      0.64      0.64        42\n",
            "           SO SO       0.70      0.79      0.74        42\n",
            "        CHO CHOE       0.90      0.83      0.86        42\n",
            "         YO YING       0.95      0.91      0.93        43\n",
            "        DO CHADA       0.73      0.67      0.70        45\n",
            "        TO PATAK       0.65      0.77      0.71        44\n",
            "        THO THAN       0.95      0.78      0.85        45\n",
            "  THO NANGMONTHO       0.94      0.74      0.83        43\n",
            "     THO PHUTHAO       0.93      0.93      0.93        43\n",
            "          NO NEN       0.97      0.90      0.94        42\n",
            "          DO DEK       0.64      0.67      0.65        42\n",
            "          TO TAO       0.64      0.76      0.70        42\n",
            "       THO THUNG       0.86      0.68      0.76        44\n",
            "      THO THAHAN       0.73      0.95      0.83        40\n",
            "       THO THONG       0.65      0.60      0.63        43\n",
            "           NO NU       0.93      0.98      0.95        41\n",
            "       BO BAIMAI       0.93      0.90      0.92        42\n",
            "          PO PLA       0.90      0.82      0.86        45\n",
            "       PHO PHUNG       0.88      0.81      0.84        43\n",
            "           FO FA       0.81      0.93      0.87        45\n",
            "        PHO PHAN       0.95      0.98      0.97        43\n",
            "          FO FAN       0.91      0.91      0.91        44\n",
            "     PHO SAMPHAO       0.78      0.76      0.77        42\n",
            "           MO MA       0.76      0.81      0.79        43\n",
            "          YO YAK       0.70      0.70      0.70        43\n",
            "          RO RUA       0.74      0.73      0.74        44\n",
            "              RU       0.79      0.60      0.68        45\n",
            "         LO LING       0.86      0.70      0.78        44\n",
            "              LU       0.68      0.76      0.72        45\n",
            "         WO WAEN       0.73      0.95      0.83        43\n",
            "         SO SALA       0.88      0.86      0.87        43\n",
            "         SO RUSI       1.00      0.95      0.98        43\n",
            "          SO SUA       0.74      0.72      0.73        43\n",
            "          HO HIP       1.00      0.86      0.92        43\n",
            "        LO CHULA       0.93      0.91      0.92        43\n",
            "           O ANG       0.59      0.75      0.66        44\n",
            "       HO NOKHUK       0.68      0.60      0.63        42\n",
            "       PAIYANNOI       0.79      0.77      0.78        44\n",
            "          SARA A       0.89      0.77      0.82        43\n",
            "            AKAT       0.94      0.98      0.96        45\n",
            "         SARA AA       0.81      0.95      0.88        44\n",
            "          SARA I       0.90      0.98      0.93        44\n",
            "         SARA II       0.91      0.98      0.95        44\n",
            "         SARA UE       0.98      1.00      0.99        45\n",
            "        SARA UEE       1.00      0.93      0.97        45\n",
            "          SARA U       0.77      0.82      0.79        44\n",
            "         SARA UU       0.74      0.82      0.78        38\n",
            "          SARA E       1.00      0.96      0.98        45\n",
            "          SARA O       0.78      0.82      0.80        44\n",
            " SARA AI MAIMUAN       0.84      0.80      0.82        45\n",
            "SARA AI MAIMALAI       0.95      0.89      0.92        45\n",
            "        MAIYAMOK       0.70      0.67      0.68        45\n",
            "       MAITAIKHU       0.95      0.88      0.91        42\n",
            "          MAI EK       0.98      0.98      0.98        45\n",
            "         MAI THO       0.91      0.93      0.92        42\n",
            "         MAI TRI       0.95      0.95      0.95        42\n",
            "    MAI CHATTAWA       0.97      0.95      0.96        40\n",
            "     THANTHAKHAT       0.84      1.00      0.91        42\n",
            "        NIKHAHIT       0.80      0.97      0.88        34\n",
            "\n",
            "       micro avg       0.82      0.82      0.82      2929\n",
            "       macro avg       0.83      0.82      0.82      2929\n",
            "    weighted avg       0.83      0.82      0.82      2929\n",
            "\n",
            "test, pred, count\n",
            "RU(35), KHO KHUAT(2), 16\n",
            "LU(37), KHO KHAI(1), 22\n",
            "KHO KHWAI(3), KHO KHUAT(2), 2\n"
          ],
          "name": "stdout"
        },
        {
          "output_type": "display_data",
          "data": {
            "text/plain": [
              "(11582, 144)"
            ]
          },
          "metadata": {
            "tags": []
          }
        },
        {
          "output_type": "display_data",
          "data": {
            "text/plain": [
              "(11582,)"
            ]
          },
          "metadata": {
            "tags": []
          }
        },
        {
          "output_type": "display_data",
          "data": {
            "text/plain": [
              "(2908, 144)"
            ]
          },
          "metadata": {
            "tags": []
          }
        },
        {
          "output_type": "display_data",
          "data": {
            "text/plain": [
              "(2908,)"
            ]
          },
          "metadata": {
            "tags": []
          }
        },
        {
          "output_type": "display_data",
          "data": {
            "text/plain": [
              "array([33, 33, 33, ..., 14, 14, 14])"
            ]
          },
          "metadata": {
            "tags": []
          }
        },
        {
          "output_type": "display_data",
          "data": {
            "text/plain": [
              "array([33, 33,  1, ..., 14, 47, 13])"
            ]
          },
          "metadata": {
            "tags": []
          }
        },
        {
          "output_type": "stream",
          "text": [
            "                  precision    recall  f1-score   support\n",
            "\n",
            "          KO KAI       0.86      0.68      0.76        44\n",
            "        KHO KHAI       0.70      0.75      0.73        44\n",
            "       KHO KHUAT       0.80      0.56      0.66        43\n",
            "       KHO KHWAI       0.57      0.69      0.62        42\n",
            "        KHO KHON       0.57      0.67      0.62        42\n",
            "     KHO RAKHANG       0.89      0.98      0.93        41\n",
            "         NGO NGU       0.82      0.91      0.86        44\n",
            "        CHO CHAN       0.89      0.77      0.83        44\n",
            "       CHO CHING       0.94      0.83      0.88        41\n",
            "       CHO CHANG       0.66      0.50      0.57        42\n",
            "           SO SO       0.62      0.74      0.67        42\n",
            "        CHO CHOE       1.00      0.81      0.89        42\n",
            "         YO YING       0.91      0.95      0.93        43\n",
            "        DO CHADA       0.74      0.70      0.72        44\n",
            "        TO PATAK       0.83      0.91      0.87        44\n",
            "        THO THAN       0.95      0.80      0.86        44\n",
            "  THO NANGMONTHO       0.92      0.81      0.86        43\n",
            "     THO PHUTHAO       0.89      0.98      0.93        43\n",
            "          NO NEN       1.00      0.98      0.99        42\n",
            "          DO DEK       0.65      0.67      0.66        42\n",
            "          TO TAO       0.74      0.69      0.72        42\n",
            "       THO THUNG       0.83      0.77      0.80        44\n",
            "      THO THAHAN       0.80      0.90      0.85        40\n",
            "       THO THONG       0.65      0.67      0.66        42\n",
            "           NO NU       0.88      0.88      0.88        41\n",
            "       BO BAIMAI       0.93      0.93      0.93        41\n",
            "          PO PLA       0.79      0.75      0.77        44\n",
            "       PHO PHUNG       0.93      0.95      0.94        43\n",
            "           FO FA       0.84      0.84      0.84        44\n",
            "        PHO PHAN       0.87      0.93      0.90        43\n",
            "          FO FAN       0.80      0.84      0.82        44\n",
            "     PHO SAMPHAO       0.89      0.76      0.82        42\n",
            "           MO MA       0.79      0.86      0.82        43\n",
            "          YO YAK       0.81      0.67      0.73        43\n",
            "          RO RUA       0.66      0.70      0.68        44\n",
            "              RU       0.71      0.73      0.72        44\n",
            "         LO LING       0.79      0.77      0.78        43\n",
            "              LU       0.74      0.80      0.77        44\n",
            "         WO WAEN       0.69      0.83      0.75        42\n",
            "         SO SALA       0.92      0.77      0.84        43\n",
            "         SO RUSI       0.95      0.98      0.97        43\n",
            "          SO SUA       0.77      0.84      0.80        43\n",
            "          HO HIP       0.95      0.86      0.90        42\n",
            "        LO CHULA       0.95      0.93      0.94        43\n",
            "           O ANG       0.76      0.84      0.80        44\n",
            "       HO NOKHUK       0.79      0.79      0.79        42\n",
            "       PAIYANNOI       0.84      0.84      0.84        44\n",
            "          SARA A       0.93      0.88      0.90        43\n",
            "            AKAT       0.93      0.95      0.94        44\n",
            "         SARA AA       0.85      0.91      0.88        44\n",
            "          SARA I       0.88      1.00      0.94        44\n",
            "         SARA II       0.98      0.93      0.95        44\n",
            "         SARA UE       0.94      1.00      0.97        44\n",
            "        SARA UEE       0.98      0.91      0.94        44\n",
            "          SARA U       0.62      0.82      0.71        44\n",
            "         SARA UU       0.80      0.63      0.71        38\n",
            "          SARA E       0.98      0.98      0.98        44\n",
            "          SARA O       0.80      0.80      0.80        44\n",
            " SARA AI MAIMUAN       0.90      0.86      0.88        44\n",
            "SARA AI MAIMALAI       0.95      0.93      0.94        44\n",
            "        MAIYAMOK       0.75      0.61      0.67        44\n",
            "       MAITAIKHU       0.75      0.86      0.80        42\n",
            "          MAI EK       0.96      1.00      0.98        44\n",
            "         MAI THO       0.93      0.88      0.90        42\n",
            "         MAI TRI       0.93      0.98      0.95        42\n",
            "    MAI CHATTAWA       0.97      0.97      0.97        40\n",
            "     THANTHAKHAT       0.93      0.93      0.93        42\n",
            "        NIKHAHIT       0.94      1.00      0.97        34\n",
            "\n",
            "       micro avg       0.83      0.83      0.83      2908\n",
            "       macro avg       0.84      0.83      0.83      2908\n",
            "    weighted avg       0.84      0.83      0.83      2908\n",
            "\n",
            "test, pred, count\n",
            "KHO KHWAI(3), CHO CHAN(7), 9\n",
            "KHO KHON(4), SARA U(54), 10\n",
            "KHO KHUAT(2), KHO KHWAI(3), 3\n"
          ],
          "name": "stdout"
        },
        {
          "output_type": "display_data",
          "data": {
            "text/plain": [
              "(11594, 144)"
            ]
          },
          "metadata": {
            "tags": []
          }
        },
        {
          "output_type": "display_data",
          "data": {
            "text/plain": [
              "(11594,)"
            ]
          },
          "metadata": {
            "tags": []
          }
        },
        {
          "output_type": "display_data",
          "data": {
            "text/plain": [
              "(2896, 144)"
            ]
          },
          "metadata": {
            "tags": []
          }
        },
        {
          "output_type": "display_data",
          "data": {
            "text/plain": [
              "(2896,)"
            ]
          },
          "metadata": {
            "tags": []
          }
        },
        {
          "output_type": "display_data",
          "data": {
            "text/plain": [
              "array([33, 33, 33, ..., 14, 14, 14])"
            ]
          },
          "metadata": {
            "tags": []
          }
        },
        {
          "output_type": "display_data",
          "data": {
            "text/plain": [
              "array([33, 11, 60, ..., 15, 14, 14])"
            ]
          },
          "metadata": {
            "tags": []
          }
        },
        {
          "output_type": "stream",
          "text": [
            "                  precision    recall  f1-score   support\n",
            "\n",
            "          KO KAI       0.97      0.70      0.82        44\n",
            "        KHO KHAI       0.69      0.61      0.65        44\n",
            "       KHO KHUAT       0.87      0.64      0.74        42\n",
            "       KHO KHWAI       0.57      0.64      0.61        42\n",
            "        KHO KHON       0.58      0.62      0.60        42\n",
            "     KHO RAKHANG       0.93      0.90      0.91        41\n",
            "         NGO NGU       0.89      0.75      0.81        44\n",
            "        CHO CHAN       0.82      0.74      0.78        43\n",
            "       CHO CHING       0.92      0.88      0.90        41\n",
            "       CHO CHANG       0.58      0.74      0.65        42\n",
            "           SO SO       0.52      0.52      0.52        42\n",
            "        CHO CHOE       0.89      0.83      0.86        41\n",
            "         YO YING       0.98      0.98      0.98        43\n",
            "        DO CHADA       0.60      0.57      0.58        44\n",
            "        TO PATAK       0.62      0.66      0.64        44\n",
            "        THO THAN       0.84      0.73      0.78        44\n",
            "  THO NANGMONTHO       0.95      0.88      0.92        43\n",
            "     THO PHUTHAO       0.95      0.93      0.94        43\n",
            "          NO NEN       0.95      0.98      0.96        42\n",
            "          DO DEK       0.53      0.59      0.56        41\n",
            "          TO TAO       0.68      0.64      0.66        42\n",
            "       THO THUNG       0.86      0.72      0.78        43\n",
            "      THO THAHAN       0.78      0.95      0.85        40\n",
            "       THO THONG       0.69      0.60      0.64        42\n",
            "           NO NU       0.95      0.85      0.90        41\n",
            "       BO BAIMAI       0.87      0.98      0.92        41\n",
            "          PO PLA       0.87      0.93      0.90        44\n",
            "       PHO PHUNG       0.90      0.86      0.88        43\n",
            "           FO FA       0.83      0.86      0.84        44\n",
            "        PHO PHAN       0.95      0.95      0.95        42\n",
            "          FO FAN       0.87      0.93      0.90        44\n",
            "     PHO SAMPHAO       0.80      0.83      0.81        42\n",
            "           MO MA       0.78      0.72      0.75        43\n",
            "          YO YAK       0.76      0.72      0.74        43\n",
            "          RO RUA       0.64      0.77      0.70        44\n",
            "              RU       0.74      0.80      0.77        44\n",
            "         LO LING       0.74      0.79      0.76        43\n",
            "              LU       0.77      0.61      0.68        44\n",
            "         WO WAEN       0.82      0.86      0.84        42\n",
            "         SO SALA       0.80      0.77      0.79        43\n",
            "         SO RUSI       0.98      0.95      0.96        43\n",
            "          SO SUA       0.65      0.52      0.58        42\n",
            "          HO HIP       1.00      0.76      0.86        42\n",
            "        LO CHULA       0.97      0.88      0.93        42\n",
            "           O ANG       0.55      0.84      0.66        43\n",
            "       HO NOKHUK       0.66      0.66      0.66        41\n",
            "       PAIYANNOI       0.84      0.82      0.83        44\n",
            "          SARA A       0.83      0.81      0.82        43\n",
            "            AKAT       0.79      1.00      0.88        44\n",
            "         SARA AA       0.88      0.95      0.91        44\n",
            "          SARA I       0.85      1.00      0.92        44\n",
            "         SARA II       0.91      0.93      0.92        43\n",
            "         SARA UE       0.94      1.00      0.97        44\n",
            "        SARA UEE       0.95      0.93      0.94        44\n",
            "          SARA U       0.73      0.73      0.73        44\n",
            "         SARA UU       0.67      0.76      0.72        38\n",
            "          SARA E       0.98      1.00      0.99        44\n",
            "          SARA O       0.81      0.68      0.74        44\n",
            " SARA AI MAIMUAN       0.91      0.93      0.92        44\n",
            "SARA AI MAIMALAI       0.98      0.95      0.97        44\n",
            "        MAIYAMOK       0.48      0.55      0.51        44\n",
            "       MAITAIKHU       0.85      0.95      0.90        41\n",
            "          MAI EK       0.98      0.98      0.98        44\n",
            "         MAI THO       1.00      0.69      0.82        42\n",
            "         MAI TRI       0.95      0.86      0.90        42\n",
            "    MAI CHATTAWA       0.95      1.00      0.98        40\n",
            "     THANTHAKHAT       0.85      0.95      0.90        42\n",
            "        NIKHAHIT       0.91      0.94      0.93        34\n",
            "\n",
            "       micro avg       0.81      0.81      0.81      2896\n",
            "       macro avg       0.82      0.81      0.81      2896\n",
            "    weighted avg       0.82      0.81      0.81      2896\n",
            "\n",
            "test, pred, count\n",
            "TO TAO(20), SO SO(10), 14\n",
            "DO DEK(19), CHO CHANG(9), 13\n",
            "KHO KHWAI(3), KHO KHUAT(2), 5\n"
          ],
          "name": "stdout"
        },
        {
          "output_type": "display_data",
          "data": {
            "text/plain": [
              "(11607, 144)"
            ]
          },
          "metadata": {
            "tags": []
          }
        },
        {
          "output_type": "display_data",
          "data": {
            "text/plain": [
              "(11607,)"
            ]
          },
          "metadata": {
            "tags": []
          }
        },
        {
          "output_type": "display_data",
          "data": {
            "text/plain": [
              "(2883, 144)"
            ]
          },
          "metadata": {
            "tags": []
          }
        },
        {
          "output_type": "display_data",
          "data": {
            "text/plain": [
              "(2883,)"
            ]
          },
          "metadata": {
            "tags": []
          }
        },
        {
          "output_type": "display_data",
          "data": {
            "text/plain": [
              "array([33, 33, 33, ..., 14, 14, 14])"
            ]
          },
          "metadata": {
            "tags": []
          }
        },
        {
          "output_type": "display_data",
          "data": {
            "text/plain": [
              "array([33, 32, 33, ..., 13, 14, 14])"
            ]
          },
          "metadata": {
            "tags": []
          }
        },
        {
          "output_type": "stream",
          "text": [
            "                  precision    recall  f1-score   support\n",
            "\n",
            "          KO KAI       0.89      0.79      0.84        43\n",
            "        KHO KHAI       0.63      0.55      0.59        44\n",
            "       KHO KHUAT       0.72      0.69      0.71        42\n",
            "       KHO KHWAI       0.57      0.55      0.56        42\n",
            "        KHO KHON       0.58      0.68      0.63        41\n",
            "     KHO RAKHANG       0.93      0.90      0.91        41\n",
            "         NGO NGU       0.91      0.89      0.90        44\n",
            "        CHO CHAN       0.78      0.84      0.81        43\n",
            "       CHO CHING       0.97      0.93      0.95        40\n",
            "       CHO CHANG       0.60      0.69      0.64        42\n",
            "           SO SO       0.69      0.61      0.65        41\n",
            "        CHO CHOE       0.97      0.93      0.95        41\n",
            "         YO YING       0.97      0.90      0.94        42\n",
            "        DO CHADA       0.64      0.61      0.63        44\n",
            "        TO PATAK       0.66      0.66      0.66        44\n",
            "        THO THAN       0.91      0.73      0.81        44\n",
            "  THO NANGMONTHO       0.90      0.86      0.88        42\n",
            "     THO PHUTHAO       0.91      0.98      0.94        43\n",
            "          NO NEN       0.97      0.95      0.96        41\n",
            "          DO DEK       0.67      0.71      0.69        41\n",
            "          TO TAO       0.73      0.76      0.74        42\n",
            "       THO THUNG       0.84      0.74      0.79        43\n",
            "      THO THAHAN       0.87      0.82      0.85        40\n",
            "       THO THONG       0.73      0.57      0.64        42\n",
            "           NO NU       0.95      0.93      0.94        41\n",
            "       BO BAIMAI       0.93      0.93      0.93        41\n",
            "          PO PLA       0.79      0.86      0.83        44\n",
            "       PHO PHUNG       0.89      0.91      0.90        43\n",
            "           FO FA       0.81      0.86      0.84        44\n",
            "        PHO PHAN       0.95      0.98      0.96        42\n",
            "          FO FAN       0.89      0.89      0.89        44\n",
            "     PHO SAMPHAO       0.88      0.86      0.87        42\n",
            "           MO MA       0.71      0.71      0.71        42\n",
            "          YO YAK       0.79      0.81      0.80        42\n",
            "          RO RUA       0.73      0.80      0.76        44\n",
            "              RU       0.66      0.80      0.72        44\n",
            "         LO LING       0.74      0.79      0.76        43\n",
            "              LU       0.81      0.66      0.73        44\n",
            "         WO WAEN       0.90      0.88      0.89        42\n",
            "         SO SALA       0.80      0.74      0.77        43\n",
            "         SO RUSI       1.00      0.90      0.95        42\n",
            "          SO SUA       0.68      0.71      0.70        42\n",
            "          HO HIP       0.92      0.79      0.85        42\n",
            "        LO CHULA       0.93      0.98      0.95        42\n",
            "           O ANG       0.73      0.84      0.78        43\n",
            "       HO NOKHUK       0.74      0.78      0.76        41\n",
            "       PAIYANNOI       0.79      0.86      0.82        43\n",
            "          SARA A       0.88      0.86      0.87        43\n",
            "            AKAT       0.88      1.00      0.94        44\n",
            "         SARA AA       0.84      0.98      0.91        44\n",
            "          SARA I       0.96      0.98      0.97        44\n",
            "         SARA II       0.89      0.95      0.92        43\n",
            "         SARA UE       0.90      0.98      0.93        44\n",
            "        SARA UEE       0.95      0.84      0.89        44\n",
            "          SARA U       0.74      0.89      0.80        44\n",
            "         SARA UU       0.64      0.61      0.62        38\n",
            "          SARA E       0.98      0.95      0.97        44\n",
            "          SARA O       0.83      0.80      0.81        44\n",
            " SARA AI MAIMUAN       0.85      0.89      0.87        44\n",
            "SARA AI MAIMALAI       0.93      0.89      0.91        44\n",
            "        MAIYAMOK       0.78      0.73      0.75        44\n",
            "       MAITAIKHU       0.90      0.85      0.88        41\n",
            "          MAI EK       0.96      0.98      0.97        44\n",
            "         MAI THO       0.92      0.81      0.86        42\n",
            "         MAI TRI       0.95      0.90      0.92        41\n",
            "    MAI CHATTAWA       0.97      0.97      0.97        40\n",
            "     THANTHAKHAT       0.89      0.98      0.93        42\n",
            "        NIKHAHIT       0.79      0.94      0.86        33\n",
            "\n",
            "       micro avg       0.83      0.83      0.83      2883\n",
            "       macro avg       0.83      0.83      0.83      2883\n",
            "    weighted avg       0.83      0.83      0.83      2883\n",
            "\n",
            "test, pred, count\n",
            "LU(37), TO PATAK(14), 4\n",
            "RU(35), DO CHADA(13), 3\n",
            "KHO KHWAI(3), KHO KHUAT(2), 4\n"
          ],
          "name": "stdout"
        },
        {
          "output_type": "display_data",
          "data": {
            "text/plain": [
              "(11616, 144)"
            ]
          },
          "metadata": {
            "tags": []
          }
        },
        {
          "output_type": "display_data",
          "data": {
            "text/plain": [
              "(11616,)"
            ]
          },
          "metadata": {
            "tags": []
          }
        },
        {
          "output_type": "display_data",
          "data": {
            "text/plain": [
              "(2874, 144)"
            ]
          },
          "metadata": {
            "tags": []
          }
        },
        {
          "output_type": "display_data",
          "data": {
            "text/plain": [
              "(2874,)"
            ]
          },
          "metadata": {
            "tags": []
          }
        },
        {
          "output_type": "display_data",
          "data": {
            "text/plain": [
              "array([33, 33, 33, ..., 14, 14, 14])"
            ]
          },
          "metadata": {
            "tags": []
          }
        },
        {
          "output_type": "display_data",
          "data": {
            "text/plain": [
              "array([33, 33, 33, ..., 14, 14, 14])"
            ]
          },
          "metadata": {
            "tags": []
          }
        },
        {
          "output_type": "stream",
          "text": [
            "                  precision    recall  f1-score   support\n",
            "\n",
            "          KO KAI       0.95      0.81      0.88        43\n",
            "        KHO KHAI       0.67      0.66      0.67        44\n",
            "       KHO KHUAT       0.71      0.57      0.63        42\n",
            "       KHO KHWAI       0.45      0.55      0.49        42\n",
            "        KHO KHON       0.59      0.63      0.61        41\n",
            "     KHO RAKHANG       0.88      0.93      0.90        41\n",
            "         NGO NGU       0.84      0.84      0.84        43\n",
            "        CHO CHAN       0.87      0.93      0.90        43\n",
            "       CHO CHING       0.95      0.90      0.92        40\n",
            "       CHO CHANG       0.70      0.71      0.71        42\n",
            "           SO SO       0.64      0.61      0.62        41\n",
            "        CHO CHOE       0.95      0.85      0.90        41\n",
            "         YO YING       0.97      0.83      0.90        42\n",
            "        DO CHADA       0.78      0.66      0.72        44\n",
            "        TO PATAK       0.71      0.80      0.75        44\n",
            "        THO THAN       0.93      0.86      0.89        44\n",
            "  THO NANGMONTHO       0.93      0.90      0.92        42\n",
            "     THO PHUTHAO       0.87      0.93      0.90        42\n",
            "          NO NEN       1.00      0.93      0.96        41\n",
            "          DO DEK       0.68      0.73      0.71        41\n",
            "          TO TAO       0.70      0.62      0.66        42\n",
            "       THO THUNG       0.91      0.74      0.82        43\n",
            "      THO THAHAN       0.80      0.82      0.81        40\n",
            "       THO THONG       0.71      0.60      0.65        42\n",
            "           NO NU       0.97      0.93      0.95        41\n",
            "       BO BAIMAI       1.00      0.95      0.97        41\n",
            "          PO PLA       0.84      0.82      0.83        44\n",
            "       PHO PHUNG       0.82      0.88      0.85        42\n",
            "           FO FA       0.83      0.86      0.84        44\n",
            "        PHO PHAN       0.93      0.93      0.93        42\n",
            "          FO FAN       0.84      0.93      0.88        44\n",
            "     PHO SAMPHAO       0.89      0.80      0.85        41\n",
            "           MO MA       0.74      0.76      0.75        42\n",
            "          YO YAK       0.82      0.64      0.72        42\n",
            "          RO RUA       0.62      0.70      0.66        43\n",
            "              RU       0.74      0.70      0.72        44\n",
            "         LO LING       0.77      0.86      0.81        43\n",
            "              LU       0.72      0.75      0.73        44\n",
            "         WO WAEN       0.72      0.90      0.80        42\n",
            "         SO SALA       0.84      0.84      0.84        43\n",
            "         SO RUSI       1.00      1.00      1.00        42\n",
            "          SO SUA       0.68      0.55      0.61        42\n",
            "          HO HIP       0.95      0.83      0.89        42\n",
            "        LO CHULA       0.90      0.90      0.90        42\n",
            "           O ANG       0.62      0.74      0.67        43\n",
            "       HO NOKHUK       0.67      0.83      0.74        41\n",
            "       PAIYANNOI       0.83      0.81      0.82        43\n",
            "          SARA A       0.86      0.88      0.87        42\n",
            "            AKAT       0.88      0.98      0.92        44\n",
            "         SARA AA       0.86      0.95      0.90        44\n",
            "          SARA I       0.95      0.98      0.97        43\n",
            "         SARA II       0.91      1.00      0.96        43\n",
            "         SARA UE       0.94      1.00      0.97        44\n",
            "        SARA UEE       0.97      0.82      0.89        44\n",
            "          SARA U       0.82      0.82      0.82        44\n",
            "         SARA UU       0.77      0.71      0.74        38\n",
            "          SARA E       0.93      0.98      0.96        44\n",
            "          SARA O       0.69      0.80      0.74        44\n",
            " SARA AI MAIMUAN       0.93      0.84      0.88        44\n",
            "SARA AI MAIMALAI       0.98      0.93      0.95        44\n",
            "        MAIYAMOK       0.59      0.61      0.60        44\n",
            "       MAITAIKHU       0.82      0.88      0.85        41\n",
            "          MAI EK       0.98      0.98      0.98        44\n",
            "         MAI THO       0.89      0.80      0.85        41\n",
            "         MAI TRI       0.95      0.93      0.94        41\n",
            "    MAI CHATTAWA       1.00      1.00      1.00        39\n",
            "     THANTHAKHAT       0.88      0.88      0.88        42\n",
            "        NIKHAHIT       0.94      1.00      0.97        33\n",
            "\n",
            "       micro avg       0.82      0.82      0.82      2874\n",
            "       macro avg       0.83      0.83      0.83      2874\n",
            "    weighted avg       0.83      0.82      0.83      2874\n",
            "\n",
            "test, pred, count\n",
            "KHO KHON(4), LU(37), 10\n",
            "KHO KHWAI(3), RU(35), 9\n",
            "KHO KHON(4), KHO KHON(4), 3\n"
          ],
          "name": "stdout"
        }
      ]
    },
    {
      "metadata": {
        "id": "iJ4G4-JM3pPA",
        "colab_type": "text"
      },
      "cell_type": "markdown",
      "source": [
        "\n",
        "## Demonstration"
      ]
    },
    {
      "metadata": {
        "id": "Gib93hOjdMtY",
        "colab_type": "code",
        "outputId": "8f828437-e644-406d-830d-23c2bba746f6",
        "colab": {
          "base_uri": "https://localhost:8080/",
          "height": 71
        }
      },
      "cell_type": "code",
      "source": [
        "import numpy as np\n",
        "import cv2 as cv\n",
        "\n",
        "path = 'Thai_char_sqr'\n",
        "\n",
        "shapes = [(cv.imread(file).shape[0]) for file in get_files(path)]\n",
        "\n",
        "print(np.min(shapes)) # 9\n",
        "print(np.max(shapes)) # 85\n",
        "print(np.mean(shapes)) # 35.74\n",
        "\n",
        "# We use mean size (36*36) as our default image size"
      ],
      "execution_count": 8,
      "outputs": [
        {
          "output_type": "stream",
          "text": [
            "9\n",
            "85\n",
            "35.74023464458247\n"
          ],
          "name": "stdout"
        }
      ]
    },
    {
      "metadata": {
        "id": "mm95CR_dimuM",
        "colab_type": "code",
        "outputId": "2895b452-19c5-439d-9a0d-a1eede51622f",
        "colab": {
          "base_uri": "https://localhost:8080/",
          "height": 1107
        }
      },
      "cell_type": "code",
      "source": [
        "testfile = 'Thai_char_sqr/1/0-161-A1-KO KAI-1002.png'\n",
        "test_img = get_img(testfile)\n",
        "print(test_img.shape)\n",
        "print(test_img[:,:18])\n",
        "test_projection = get_projection(test_img)\n",
        "test_upper_boundary = get_boundary(test_img, UPPER_BOUNDARY)\n",
        "test_lower_boundary = get_boundary(test_img, LOWER_BOUNDARY)\n",
        "test_nbits = get_nbits(test_img)\n",
        "\n",
        "print(test_projection)\n",
        "print(test_upper_boundary)\n",
        "print(test_lower_boundary)\n",
        "print(test_nbits)"
      ],
      "execution_count": 9,
      "outputs": [
        {
          "output_type": "stream",
          "text": [
            "(36, 36)\n",
            "[[  0   0   0   1   3   3   4   0   0   0   0   8 237 255 255 255 255 255]\n",
            " [  0   0   0   1   4   0   0 147 215 198 196 202 251 255 255 255 255 255]\n",
            " [  0   0   0   4   0   0 134 253 255 255 255 255 255 251 255 255 255 255]\n",
            " [  0   0   0   0  20 123 255 255 251 255 255 255 255 255 202 140 148 161]\n",
            " [  0   0   1   0  60 255 255 254 255 232 192 198 198 221  67   0   0   0]\n",
            " [  0   0   0   0  77 255 255 255 255 147   0   0   0   0   0   5   4   2]\n",
            " [  0   0   0 102 255 255 255 255 255 152   0   2   2   2   3   3   3   3]\n",
            " [  0   0   0  12 124 255 255 255 255 140   0   5   3   3   3   3   3   3]\n",
            " [  0   0   2   0  10 111  98 221 255 227 102   0   0   0   5   3   3   3]\n",
            " [  0   0   0   4   0   0   0 209 255 255 245  97 111  11   0   0   5   3]\n",
            " [  0   0   0   1   3   2   0 148 247 255 255 255 255 110  49  37   0   3]\n",
            " [  0   0   0   1   4   4   4   0 146 255 255 255 254 255 255 161   0   3]\n",
            " [  0   0   0   1   3   3   3   0 152 255 255 255 255 255 255 153   0   3]\n",
            " [  0   0   0   2   4   3   5   0 140 255 255 255 255 255 255 153   0   3]\n",
            " [  0   0   0   2   4   2   0 108 225 255 255 255 255 255 255 169   0   3]\n",
            " [  0   0   0   1   4   1   0 216 255 255 232 147 152 153 169  92   0   3]\n",
            " [  0   0   0   1   1   6  46 213 255 255 200   0   0   0   0   0   6   3]\n",
            " [  0   0   0   1   0  21 251 255 255 255 183   0   2   3   3   3   3   3]\n",
            " [  0   0   0   1   0  20 239 255 255 161   0   2   3   3   3   3   3   3]\n",
            " [  0   0   0   1   0  20 238 255 255 148   0   4   3   3   3   3   3   3]\n",
            " [  0   0   0   4   0   0 236 255 255 153   0   3   3   3   3   3   3   3]\n",
            " [  0   0   0   0  21 121 245 255 255 153   0   3   3   3   3   3   3   3]\n",
            " [  0   0   0   0  67 255 255 254 255 153   0   3   3   3   3   3   3   3]\n",
            " [  0   0   0   0  61 255 255 255 255 153   0   3   3   3   3   3   3   3]\n",
            " [  0   0   0   0  61 255 255 255 255 153   0   3   3   3   3   3   3   3]\n",
            " [  0   0   0   0  67 255 255 254 255 153   0   3   3   3   3   3   3   3]\n",
            " [  0   0   0   0  21 121 245 255 255 153   0   3   3   3   3   3   3   3]\n",
            " [  0   0   0   4   0   0 255 255 255 143   0   4   3   3   3   3   3   3]\n",
            " [  0   0   0   1   0  16 181 255 255 179  27   0   3   3   3   3   3   3]\n",
            " [  0   0   0   1   4   1   0 179 255 255 209   0   2   3   3   3   3   3]\n",
            " [  0   0   0   1   3   3   1   0 170 255 194   0   1   4   3   3   3   3]\n",
            " [  0   0   0   1   3   3   4   0   9 164 255 180  16   0   3   3   3   3]\n",
            " [  0   0   0   1   3   3   3   5   0  17 173 255  24   0   3   3   3   3]\n",
            " [  0   0   0   1   3   3   3   3   6   0  19 152  14   0   3   3   3   3]\n",
            " [  0   0   0   1   3   3   3   3   3   5   0   0   1   4   3   3   3   3]\n",
            " [  0   0   0   1   3   3   3   3   3   3   3   3   3   3   3   3   3   3]]\n",
            "[0.00000000e+00 0.00000000e+00 3.26797386e-04 1.65577342e-02\n",
            " 9.76034858e-02 2.87145969e-01 4.89760349e-01 6.57952070e-01\n",
            " 7.81808279e-01 6.86492375e-01 4.37363834e-01 3.33877996e-01\n",
            " 3.08714597e-01 2.81699346e-01 2.54901961e-01 1.89651416e-01\n",
            " 1.08278867e-01 1.10893246e-01 1.40740741e-01 1.15141612e-01\n",
            " 1.48692810e-01 1.87799564e-01 2.35947712e-01 3.42810458e-01\n",
            " 3.71677560e-01 4.20370370e-01 4.56862745e-01 4.59150327e-01\n",
            " 4.10021786e-01 2.98257081e-01 1.85294118e-01 7.63616558e-02\n",
            " 1.79738562e-02 6.53594771e-04 0.00000000e+00 0.00000000e+00]\n",
            "[1.         1.         1.         1.         0.16666667 0.11111111\n",
            " 0.05555556 0.02777778 0.02777778 0.02777778 0.02777778 0.02777778\n",
            " 0.         0.         0.         0.         0.         0.\n",
            " 0.         0.02777778 0.02777778 0.05555556 0.05555556 0.05555556\n",
            " 0.16666667 0.25       0.38888889 0.41666667 0.52777778 0.69444444\n",
            " 0.83333333 0.88888889 1.         1.         1.         1.        ]\n",
            "[1.         1.         1.         1.         0.80555556 0.27777778\n",
            " 0.19444444 0.16666667 0.13888889 0.11111111 0.08333333 0.05555556\n",
            " 0.55555556 0.55555556 0.55555556 0.58333333 0.88888889 0.88888889\n",
            " 0.86111111 0.86111111 0.80555556 0.77777778 0.72222222 0.61111111\n",
            " 0.47222222 0.30555556 0.13888889 0.11111111 0.02777778 0.\n",
            " 0.         0.05555556 1.         1.         1.         1.        ]\n",
            "[0.    0.    0.    0.    0.125 0.25  0.25  0.25  0.125 0.125 0.375 0.375\n",
            " 0.25  0.25  0.25  0.25  0.125 0.125 0.125 0.125 0.125 0.125 0.125 0.125\n",
            " 0.125 0.125 0.125 0.125 0.125 0.125 0.125 0.125 0.    0.    0.    0.   ]\n"
          ],
          "name": "stdout"
        }
      ]
    },
    {
      "metadata": {
        "id": "TpSNQhNR0nJe",
        "colab_type": "code",
        "outputId": "d9fd536a-9e28-441f-cc6b-6518397755c0",
        "colab": {
          "base_uri": "https://localhost:8080/",
          "height": 1337
        }
      },
      "cell_type": "code",
      "source": [
        "display_plot(test_projection)\n",
        "display_plot(- test_upper_boundary) # show negative value for easier intuition\n",
        "display_plot(test_lower_boundary)\n",
        "display_plot(test_nbits)"
      ],
      "execution_count": 10,
      "outputs": [
        {
          "output_type": "display_data",
          "data": {
            "image/png": "[encoded data removed]",
            "text/plain": [
              "<Figure size 576x396 with 1 Axes>"
            ]
          },
          "metadata": {
            "tags": []
          }
        },
        {
          "output_type": "display_data",
          "data": {
            "image/png": "[encoded data removed]",
            "text/plain": [
              "<Figure size 576x396 with 1 Axes>"
            ]
          },
          "metadata": {
            "tags": []
          }
        },
        {
          "output_type": "display_data",
          "data": {
            "image/png": "[encoded data removed]",
            "text/plain": [
              "<Figure size 576x396 with 1 Axes>"
            ]
          },
          "metadata": {
            "tags": []
          }
        },
        {
          "output_type": "display_data",
          "data": {
            "image/png": "[encoded data removed]",
            "text/plain": [
              "<Figure size 576x396 with 1 Axes>"
            ]
          },
          "metadata": {
            "tags": []
          }
        }
      ]
    }
  ]
}